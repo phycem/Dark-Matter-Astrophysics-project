{
  "nbformat": 4,
  "nbformat_minor": 0,
  "metadata": {
    "colab": {
      "name": "Case Study 3: Digit Recognition with Neural Network",
      "provenance": [],
      "collapsed_sections": [],
      "include_colab_link": true
    },
    "kernelspec": {
      "name": "python3",
      "display_name": "Python 3"
    },
    "language_info": {
      "name": "python"
    }
  },
  "cells": [
    {
      "cell_type": "markdown",
      "metadata": {
        "id": "view-in-github",
        "colab_type": "text"
      },
      "source": [
        "<a href=\"https://colab.research.google.com/github/phycem/Dark-Matter-Astrophysics-project/blob/main/Case_Study_3_Digit_Recognition_with_Neural_Network.ipynb\" target=\"_parent\"><img src=\"https://colab.research.google.com/assets/colab-badge.svg\" alt=\"Open In Colab\"/></a>"
      ]
    },
    {
      "cell_type": "markdown",
      "source": [
        "\n",
        "To explore enural networks great simulation: \n",
        "https://playground.tensorflow.org/#activation=linear&batchSize=10&dataset=spiral&regDataset=reg-plane&learningRate=0.003&regularizationRate=0&noise=0&networkShape=4,2&seed=0.03636&showTestData=false&discretize=false&percTrainData=50&x=true&y=true&xTimesY=false&xSquared=false&ySquared=false&cosX=false&sinX=false&cosY=false&sinY=false&collectStats=false&problem=classification&initZero=false&hideText=false"
      ],
      "metadata": {
        "id": "wYELvJYfGoDH"
      }
    },
    {
      "cell_type": "markdown",
      "metadata": {
        "id": "VnzOaKXn03Ll"
      },
      "source": [
        "# 🔢 **Recognizing handwritten numbers with Neural Networks!**"
      ]
    },
    {
      "cell_type": "markdown",
      "metadata": {
        "id": "1pTmnk2uF5Ox"
      },
      "source": [
        "In this case study, I do:\n",
        "- Explore the digit data set\n",
        "- Train a simple K-neighbors classifier and logistic regression classifier for computer vision\n",
        "- Train neural nets to be able to classify handwritten numbers\n",
        "- Improve your model with convolutional neural networks!\n",
        "- (Optional challenge) Use a saliency map to implement explainable AI"
      ]
    },
    {
      "cell_type": "markdown",
      "metadata": {
        "id": "aEBIZKWD7545"
      },
      "source": [
        "## 🖼 **Getting the image data**"
      ]
    },
    {
      "cell_type": "code",
      "metadata": {
        "id": "nl0ZWAqjxERV"
      },
      "source": [
        "#@title importing my libraries!\n",
        "import numpy as np\n",
        "import pandas as pd\n",
        "import seaborn as sns\n",
        "import matplotlib.pyplot as plt\n",
        "from sklearn import model_selection\n",
        "from sklearn.datasets import fetch_openml\n",
        "from sklearn.model_selection import train_test_split\n",
        "from sklearn.linear_model import LogisticRegression\n",
        "from sklearn.metrics import accuracy_score\n",
        "from sklearn.neural_network import MLPClassifier\n",
        "from sklearn.neighbors import KNeighborsClassifier\n",
        "\n",
        "from collections import Counter\n",
        "import tensorflow.keras as keras\n",
        "from keras.models import Sequential\n",
        "from keras.layers import Dense, Conv2D, Dropout, Activation\n",
        "from keras.layers import Activation, MaxPooling2D, Dropout, Flatten, Reshape\n",
        "from keras.wrappers.scikit_learn import KerasClassifier\n",
        "from sklearn.model_selection import StratifiedKFold\n",
        "from sklearn.model_selection import cross_val_score\n",
        "\n",
        "def get_data():\n",
        "  X, y = fetch_openml('mnist_784', version=1, return_X_y=True)\n",
        "  return X[:5000], y[:5000]\n",
        "\n",
        "def plot_acc(history, ax = None, xlabel = 'Epoch #'):\n",
        "    history = history.history\n",
        "    history.update({'epoch':list(range(len(history['val_accuracy'])))})\n",
        "    history = pd.DataFrame.from_dict(history)\n",
        "\n",
        "    best_epoch = history.sort_values(by = 'val_accuracy', ascending = False).iloc[0]['epoch']\n",
        "\n",
        "    if not ax:\n",
        "      f, ax = plt.subplots(1,1)\n",
        "    sns.lineplot(x = 'epoch', y = 'val_accuracy', data = history, label = 'Validation', ax = ax)\n",
        "    sns.lineplot(x = 'epoch', y = 'accuracy', data = history, label = 'Training', ax = ax)\n",
        "    ax.axhline(0.5, linestyle = '--',color='red', label = 'Chance')\n",
        "    ax.axvline(x = best_epoch, linestyle = '--', color = 'green', label = 'Best Epoch')  \n",
        "    ax.legend(loc = 3)    \n",
        "    ax.set_ylim([min(history['val_accuracy']), max(history['accuracy'])])\n",
        "\n",
        "    ax.set_xlabel(xlabel)\n",
        "    ax.set_ylabel('Accuracy (Fraction)')\n",
        "    \n",
        "    plt.show()\n"
      ],
      "execution_count": null,
      "outputs": []
    },
    {
      "cell_type": "markdown",
      "metadata": {
        "id": "wZygXWwt3YE-"
      },
      "source": [
        "Exploring the data set: The input `X` is an array of images (where each image is a list of pixel values), and the output `y` is the classification of that image."
      ]
    },
    {
      "cell_type": "code",
      "metadata": {
        "id": "WsK2cGWu3hhI"
      },
      "source": [
        "X, y = get_data()\n",
        "X = X.to_numpy() "
      ],
      "execution_count": null,
      "outputs": []
    },
    {
      "cell_type": "markdown",
      "metadata": {
        "id": "Wg0O8saZ7RXb"
      },
      "source": [
        " The dimensions of `X` counts number of digits and `y` counts number of pixels in each image. Let's say if our images are squares, then the heights and width sould be 28x28"
      ]
    },
    {
      "cell_type": "code",
      "metadata": {
        "id": "AJ82YaBb7bj_",
        "colab": {
          "base_uri": "https://localhost:8080/"
        },
        "outputId": "0f04f25b-ab45-48ed-9010-e093e8c1b411"
      },
      "source": [
        "print(\"x dimensions =\",X.shape)\n",
        "print(\"y dimensions =\",y.shape) "
      ],
      "execution_count": null,
      "outputs": [
        {
          "output_type": "stream",
          "name": "stdout",
          "text": [
            "x dimensions = (5000, 784)\n",
            "y dimensions = (5000,)\n"
          ]
        }
      ]
    },
    {
      "cell_type": "markdown",
      "metadata": {
        "id": "yYpALCp7_YKI"
      },
      "source": [
        "### 💭 **Reshaping our data**\n",
        "The images here are one dimensional. Hence I use the `numpy` `reshape` function to make them 2D images. "
      ]
    },
    {
      "cell_type": "code",
      "metadata": {
        "id": "Pr1BXhAa48GI"
      },
      "source": [
        "X_2d = X.reshape((5000, 28, 28))"
      ],
      "execution_count": null,
      "outputs": []
    },
    {
      "cell_type": "code",
      "metadata": {
        "id": "M4bh-fsZCEXF",
        "colab": {
          "base_uri": "https://localhost:8080/"
        },
        "outputId": "2b7bcfda-8e93-4c2d-be4f-3090b2d35f36"
      },
      "source": [
        "print(X_2d.shape)"
      ],
      "execution_count": null,
      "outputs": [
        {
          "output_type": "stream",
          "name": "stdout",
          "text": [
            "(5000, 28, 28)\n"
          ]
        }
      ]
    },
    {
      "cell_type": "markdown",
      "metadata": {
        "id": "YmwJiJyQCqWo"
      },
      "source": [
        "### 🔍 **Let's take a look at some images!**\n"
      ]
    },
    {
      "cell_type": "code",
      "metadata": {
        "id": "zSbuNVwb4D-8",
        "colab": {
          "base_uri": "https://localhost:8080/",
          "height": 282
        },
        "outputId": "7196836a-d76a-4690-ea11-edd4bed5243f"
      },
      "source": [
        "image_number = 0\n",
        "\n",
        "plt.imshow(X_2d[image_number], cmap = \"gray\")\n",
        "print(\"The label for this image is\", y[image_number])"
      ],
      "execution_count": null,
      "outputs": [
        {
          "output_type": "stream",
          "name": "stdout",
          "text": [
            "The label for this image is 5\n"
          ]
        },
        {
          "output_type": "display_data",
          "data": {
            "text/plain": [
              "<Figure size 432x288 with 1 Axes>"
            ],
            "image/png": "[encoded data removed]"
          },
          "metadata": {
            "needs_background": "light"
          }
        }
      ]
    },
    {
      "cell_type": "markdown",
      "metadata": {
        "id": "Mh7T5wwGJOWn"
      },
      "source": [
        "I check to see examples of numbers from every class. "
      ]
    },
    {
      "cell_type": "code",
      "metadata": {
        "id": "KArWN0glxZsP",
        "colab": {
          "base_uri": "https://localhost:8080/",
          "height": 629
        },
        "outputId": "94b1d573-c952-4439-9911-1743211b5907"
      },
      "source": [
        "#@title Run me to see numbers from every class!\n",
        "classes = ['0', '1', '2','3', '4','5', '6', '7', '8', '9']\n",
        "nclasses = len(classes)\n",
        "\n",
        "samples_per_class = 5\n",
        "figure = plt.figure(figsize=(nclasses*2,(1+samples_per_class*2)));\n",
        "\n",
        "for idx_cls, cls in enumerate(classes):\n",
        "  idxs = np.flatnonzero(y == cls)\n",
        "  idxs = np.random.choice(idxs, samples_per_class, replace=False)\n",
        "  for i, idx in enumerate(idxs):\n",
        "    plt_idx = i * nclasses + idx_cls + 1\n",
        "    p = plt.subplot(samples_per_class, nclasses, plt_idx);\n",
        "    p = sns.heatmap(np.reshape(X[idx], (28,28)), cmap=plt.cm.gray, \n",
        "             xticklabels=False, yticklabels=False, cbar=False);\n",
        "    p = plt.axis('off');"
      ],
      "execution_count": null,
      "outputs": [
        {
          "output_type": "display_data",
          "data": {
            "text/plain": [
              "<Figure size 1440x792 with 50 Axes>"
            ],
            "image/png": "[encoded data removed]"
          },
          "metadata": {}
        }
      ]
    },
    {
      "cell_type": "markdown",
      "metadata": {
        "id": "8D9NKLtGITpm"
      },
      "source": [
        "**How many images of each class are in the overall data set?**\n"
      ]
    },
    {
      "cell_type": "code",
      "metadata": {
        "id": "0vUbELKjxKU3",
        "colab": {
          "base_uri": "https://localhost:8080/",
          "height": 350
        },
        "outputId": "8e5ae251-453c-45a9-d135-fc44052f282c"
      },
      "source": [
        "sns.countplot(y)"
      ],
      "execution_count": null,
      "outputs": [
        {
          "output_type": "stream",
          "name": "stderr",
          "text": [
            "/usr/local/lib/python3.7/dist-packages/seaborn/_decorators.py:43: FutureWarning: Pass the following variable as a keyword arg: x. From version 0.12, the only valid positional argument will be `data`, and passing other arguments without an explicit keyword will result in an error or misinterpretation.\n",
            "  FutureWarning\n"
          ]
        },
        {
          "output_type": "execute_result",
          "data": {
            "text/plain": [
              "<matplotlib.axes._subplots.AxesSubplot at 0x7f325997a4d0>"
            ]
          },
          "metadata": {},
          "execution_count": 8
        },
        {
          "output_type": "display_data",
          "data": {
            "text/plain": [
              "<Figure size 432x288 with 1 Axes>"
            ],
            "image/png": "[encoded data removed]"
          },
          "metadata": {
            "needs_background": "light"
          }
        }
      ]
    },
    {
      "cell_type": "markdown",
      "metadata": {
        "id": "tUjr5CKnhvtg"
      },
      "source": [
        "**Testing two of less complex models: KNN and logistic regression.**\n",
        "First split into testing and training data.\n",
        "\n",
        "---\n",
        "\n"
      ]
    },
    {
      "cell_type": "code",
      "metadata": {
        "id": "qq3HlNlwLb-j"
      },
      "source": [
        "X_train, X_test, y_train, y_test = train_test_split(X, y, test_size=0.2, random_state=9)"
      ],
      "execution_count": null,
      "outputs": []
    },
    {
      "cell_type": "code",
      "metadata": {
        "id": "oC5iH5bDQPEK",
        "colab": {
          "base_uri": "https://localhost:8080/"
        },
        "outputId": "9bafbc55-28bd-48a7-ea5c-a0aa421ce293"
      },
      "source": [
        "print(y_train.shape[0])\n",
        "print(y_test.shape[0])"
      ],
      "execution_count": null,
      "outputs": [
        {
          "output_type": "stream",
          "name": "stdout",
          "text": [
            "4000\n",
            "1000\n"
          ]
        }
      ]
    },
    {
      "cell_type": "markdown",
      "metadata": {
        "id": "RI3aYOClVlw4"
      },
      "source": [
        "## 🗒 **Logistic Regression Model**\n",
        " \n",
        "\n",
        "Build, train, and measure the accuracy of the logistic regression model. "
      ]
    },
    {
      "cell_type": "code",
      "metadata": {
        "id": "RLLZGqS5WTbZ",
        "colab": {
          "base_uri": "https://localhost:8080/"
        },
        "outputId": "36b76f46-24af-44a4-970c-744e52953890"
      },
      "source": [
        "### YOUR CODE HERE\n",
        "\n",
        "## Step 1: initialize model\n",
        "lr_model = LogisticRegression(penalty='none', \n",
        "                         tol=0.1, solver='saga',\n",
        "                         multi_class='multinomial') # we've added in a few extra parameters. Feel free to look at the documentation!\n",
        "## Step 2: train model\n",
        "train_model = lr_model.fit(X_train,y_train)\n",
        "## Step 3: make predictions on the test data\n",
        "y_pred = train_model.predict(X_test)\n",
        "\n",
        "## Step 4: calculate the score on the test data and print it\n",
        "score=accuracy_score(y_test,y_pred)\n",
        "print(score)\n",
        "### END CODE"
      ],
      "execution_count": null,
      "outputs": [
        {
          "output_type": "stream",
          "name": "stdout",
          "text": [
            "0.895\n"
          ]
        }
      ]
    },
    {
      "cell_type": "markdown",
      "metadata": {
        "id": "y1UgejTSW2X1"
      },
      "source": [
        "### 🔡 **Coefficients**\n",
        "We can use coefficient values to understand what features (i.e. which pixels) are important in determining what class a sample belongs to. A coefficient with a **larger magnitude** means that its feature is more important in the classification.\n",
        "\n",
        "First let's look at the shape of our coefficients.  Coefficient dimension 0 is number of digits. Coefficient dimension 1 is number of pixels in each image. "
      ]
    },
    {
      "cell_type": "code",
      "metadata": {
        "id": "lQes7pdI3kqX",
        "colab": {
          "base_uri": "https://localhost:8080/"
        },
        "outputId": "de4756f2-7f7c-4a4a-8c8a-ea6b62652804"
      },
      "source": [
        "lr_model.coef_.shape"
      ],
      "execution_count": null,
      "outputs": [
        {
          "output_type": "execute_result",
          "data": {
            "text/plain": [
              "(10, 784)"
            ]
          },
          "metadata": {},
          "execution_count": 12
        }
      ]
    },
    {
      "cell_type": "markdown",
      "metadata": {
        "id": "UQUUetCcYKAL"
      },
      "source": [
        "Let's plot the different coefficient matrices! Darker colors on these plots means that particular pixel value contributes more to the overall classification."
      ]
    },
    {
      "cell_type": "code",
      "metadata": {
        "id": "Db_gQEGA3qmS",
        "colab": {
          "base_uri": "https://localhost:8080/",
          "height": 141
        },
        "outputId": "667098a4-6274-4c9b-ccaf-74060c4301b0"
      },
      "source": [
        "scale = np.max(np.abs(lr_model.coef_))\n",
        "nclasses=10\n",
        "\n",
        "p = plt.figure(figsize=(20, 2.5));\n",
        "\n",
        "for i in range(nclasses):\n",
        "    p = plt.subplot(1, nclasses, i + 1)\n",
        "    p = plt.imshow(lr_model.coef_[i].reshape(28, 28),\n",
        "                  cmap=plt.cm.RdBu, vmin=-scale, vmax=scale); # plotting scaled coefficient values on a red blue scale\n",
        "    p = plt.axis('off')\n",
        "    p = plt.title('Class %i' % i);"
      ],
      "execution_count": null,
      "outputs": [
        {
          "output_type": "display_data",
          "data": {
            "text/plain": [
              "<Figure size 1440x180 with 10 Axes>"
            ],
            "image/png": "[encoded data removed]"
          },
          "metadata": {
            "needs_background": "light"
          }
        }
      ]
    },
    {
      "cell_type": "markdown",
      "metadata": {
        "id": "Ghxr9pnuZQLG"
      },
      "source": [
        "### 🔢 **Getting conditional probabilities**\n",
        "I can use the coefficient matrix to compute the conditional probabilities of a sample being in each class. The way we do this is by multiplying every pixel value by the corresponding coefficient, then adding on the intercept.\n",
        "\n",
        "In the `mult_coefs` function below, I take the coefficients and the image and multiply them together."
      ]
    },
    {
      "cell_type": "code",
      "metadata": {
        "id": "4xZZ51w1aify"
      },
      "source": [
        "def mult_coefs(coefficients, image):\n",
        "  \n",
        "  '''\n",
        "    Returns the sum of each coefficient multiplied by its corresponding image pixel, all added together\n",
        "  '''\n",
        "  return np.dot(coefficients, image)"
      ],
      "execution_count": null,
      "outputs": []
    },
    {
      "cell_type": "markdown",
      "metadata": {
        "id": "sH0IZoRoa8-8"
      },
      "source": [
        "Now I've made that function, I can use it in our overall function!"
      ]
    },
    {
      "cell_type": "code",
      "metadata": {
        "id": "FyJezUDFa8jl"
      },
      "source": [
        "def find_probability(sample_index, model):\n",
        "  probabilities = [0]*10\n",
        "  for k in range(10):\n",
        "    probabilities[k] += model.intercept_[k]\n",
        "    probabilities[k] += mult_coefs(model.coef_[k], X_test[sample_index])\n",
        "\n",
        "  exps = [np.exp(probabilities[k]) for k in range(10)]\n",
        "  exps_sum = np.sum(exps) \n",
        "  return exps/exps_sum"
      ],
      "execution_count": null,
      "outputs": []
    },
    {
      "cell_type": "markdown",
      "metadata": {
        "id": "kWjqou5KduVT"
      },
      "source": [
        "Now I can plot the probabilities below. I can change the value of `index` to look at different image classifications. It is good at predicting where number 6 and number 1 are than number 9."
      ]
    },
    {
      "cell_type": "code",
      "metadata": {
        "id": "yGBcW0HQ3ui2",
        "colab": {
          "base_uri": "https://localhost:8080/",
          "height": 296
        },
        "outputId": "c6fd8b3e-ada1-4cdf-c8df-c894e43328a5"
      },
      "source": [
        "# change this number to see different images\n",
        "index = 5\n",
        "\n",
        "prob = find_probability(index, lr_model)\n",
        "\n",
        "sns.barplot(x = np.arange(0,10), y = prob);\n",
        "plt.ylabel(\"Probability\");\n",
        "plt.xlabel(\"Class\");\n",
        "print(\"Actual label: \", y_test.iloc[index])"
      ],
      "execution_count": null,
      "outputs": [
        {
          "output_type": "stream",
          "name": "stdout",
          "text": [
            "Actual label:  5\n"
          ]
        },
        {
          "output_type": "display_data",
          "data": {
            "text/plain": [
              "<Figure size 432x288 with 1 Axes>"
            ],
            "image/png": "[encoded data removed]"
          },
          "metadata": {
            "needs_background": "light"
          }
        }
      ]
    },
    {
      "cell_type": "code",
      "source": [
        "index = 8\n",
        "\n",
        "prob = find_probability(index, lr_model)\n",
        "\n",
        "sns.barplot(x = np.arange(0,10), y = prob);\n",
        "plt.ylabel(\"Probability\");\n",
        "plt.xlabel(\"Class\");\n",
        "print(\"Actual label: \", y_test.iloc[index])"
      ],
      "metadata": {
        "colab": {
          "base_uri": "https://localhost:8080/",
          "height": 296
        },
        "id": "vDQCWifdNwpq",
        "outputId": "5dc834a9-84f8-4b07-ffec-173348d6078b"
      },
      "execution_count": null,
      "outputs": [
        {
          "output_type": "stream",
          "name": "stdout",
          "text": [
            "Actual label:  8\n"
          ]
        },
        {
          "output_type": "display_data",
          "data": {
            "text/plain": [
              "<Figure size 432x288 with 1 Axes>"
            ],
            "image/png": "[encoded data removed]"
          },
          "metadata": {
            "needs_background": "light"
          }
        }
      ]
    },
    {
      "cell_type": "code",
      "source": [
        "index = 3\n",
        "\n",
        "prob = find_probability(index, lr_model)\n",
        "\n",
        "sns.barplot(x = np.arange(0,10), y = prob);\n",
        "plt.ylabel(\"Probability\");\n",
        "plt.xlabel(\"Class\");\n",
        "print(\"Actual label: \", y_test.iloc[index])"
      ],
      "metadata": {
        "colab": {
          "base_uri": "https://localhost:8080/",
          "height": 296
        },
        "id": "Frt2XiUrNzoL",
        "outputId": "b34e90d8-a1e9-4d34-f3df-feb179edda9d"
      },
      "execution_count": null,
      "outputs": [
        {
          "output_type": "stream",
          "name": "stdout",
          "text": [
            "Actual label:  0\n"
          ]
        },
        {
          "output_type": "display_data",
          "data": {
            "text/plain": [
              "<Figure size 432x288 with 1 Axes>"
            ],
            "image/png": "[encoded data removed]"
          },
          "metadata": {
            "needs_background": "light"
          }
        }
      ]
    },
    {
      "cell_type": "code",
      "source": [
        "plt.imshow(X_test[index].reshape((28,28)))"
      ],
      "metadata": {
        "id": "RShR1Se5c1ez",
        "colab": {
          "base_uri": "https://localhost:8080/",
          "height": 282
        },
        "outputId": "a12ab8b7-17fa-4b44-8585-6fb4be6be248"
      },
      "execution_count": null,
      "outputs": [
        {
          "output_type": "execute_result",
          "data": {
            "text/plain": [
              "<matplotlib.image.AxesImage at 0x7f325984f5d0>"
            ]
          },
          "metadata": {},
          "execution_count": 20
        },
        {
          "output_type": "display_data",
          "data": {
            "text/plain": [
              "<Figure size 432x288 with 1 Axes>"
            ],
            "image/png": "[encoded data removed]"
          },
          "metadata": {
            "needs_background": "light"
          }
        }
      ]
    },
    {
      "cell_type": "markdown",
      "metadata": {
        "id": "HL0Qg7k3e1o4"
      },
      "source": [
        "For this multi-class problem, I can extend the confusion matrix to have more rows and columns. The diagonal of the multi-class confusion matrix shows the number of correct classifications for each class, and other entries show instances where a sample from one class was mistakenly assigned a different class label. I create a confusion matrix using the pandas library's `crosstab` function."
      ]
    },
    {
      "cell_type": "code",
      "metadata": {
        "id": "y2WeAEDP4Hjr",
        "colab": {
          "base_uri": "https://localhost:8080/",
          "height": 606
        },
        "outputId": "37f6345a-94cd-48a1-f167-0a5dc679dadb"
      },
      "source": [
        "cm = pd.crosstab(y_test, y_pred, rownames=['Actual'], colnames=['Predicted'])\n",
        "p = plt.figure(figsize=(10,10));\n",
        "p = sns.heatmap(cm, annot=True, fmt=\"d\", cbar=False)"
      ],
      "execution_count": null,
      "outputs": [
        {
          "output_type": "display_data",
          "data": {
            "text/plain": [
              "<Figure size 720x720 with 1 Axes>"
            ],
            "image/png": "[encoded data removed]"
          },
          "metadata": {
            "needs_background": "light"
          }
        }
      ]
    },
    {
      "cell_type": "markdown",
      "metadata": {
        "id": "N3H_qZOOMVPF"
      },
      "source": [
        "## 🗒 **KNN**\n",
        "\n",
        "Now, I do the same thing with a k-Nearest-Neighbors model. In sklearn, the model is called `KNeighborsClassifier`. \n",
        "\n",
        "I build, train, and measure the accuracy of the KNN model and I experiment with changing the number of neighbors!\n",
        "\n",
        "**NOTE:** (https://scikit-learn.org/stable/modules/generated/sklearn.neighbors.KNeighborsClassifier.html)"
      ]
    },
    {
      "cell_type": "code",
      "metadata": {
        "id": "epcrJKu4Lduu",
        "colab": {
          "base_uri": "https://localhost:8080/"
        },
        "outputId": "fa6f4982-4bd7-45fd-fbc2-5d236cfdf846"
      },
      "source": [
        "\n",
        "## Step 1: initialize model\n",
        "knn = KNeighborsClassifier(n_neighbors=3)\n",
        "\n",
        "## Step 2: train model\n",
        "train_model1=knn.fit(X_train,y_train)\n",
        "## Step 3: make predictions on the test data\n",
        "predict1=train_model1.predict(X_test)\n",
        "## Step 4: calculate the score on the test data and print it\n",
        "score=accuracy_score(y_test,predict1)\n",
        "print(score)\n",
        "### END CODE"
      ],
      "execution_count": null,
      "outputs": [
        {
          "output_type": "stream",
          "name": "stdout",
          "text": [
            "0.925\n"
          ]
        }
      ]
    },
    {
      "cell_type": "markdown",
      "metadata": {
        "id": "4oW_Wb-1CTfB"
      },
      "source": [
        "### 🎛 **Choosing a value of k**\n",
        "First determine the optimal value of \"K\" for my data using a for-loop to loop through different values of \"K\". In particular, *at the very least* trying K = 1, 3, 5, 10, 20, and 30. For each of these values of \"K\", I define a new KNN model, train it, and evaluate the accuracy. Optimal value is 1 or 5. There is no such great increase for higher K so picking \"1\" is good enough. "
      ]
    },
    {
      "cell_type": "code",
      "metadata": {
        "id": "OrZK_qoAZOAd",
        "colab": {
          "base_uri": "https://localhost:8080/"
        },
        "outputId": "e40e00c0-b081-4707-dbcd-23b2938e2157"
      },
      "source": [
        "\n",
        "## Step 1: initialize model\n",
        "for i in [1, 3, 5, 10, 20, 30]:\n",
        "  knn = KNeighborsClassifier(n_neighbors=i)\n",
        "\n",
        "## Step 2: train model\n",
        "  train_model1=knn.fit(X_train,y_train)\n",
        "## Step 3: make predictions on the test data\n",
        "  predict1=train_model1.predict(X_test)\n",
        "## Step 4: calculate the score on the test data and print it\n",
        "  score=accuracy_score(y_test,predict1)\n",
        "  print(i,score)\n"
      ],
      "execution_count": null,
      "outputs": [
        {
          "output_type": "stream",
          "name": "stdout",
          "text": [
            "1 0.931\n",
            "3 0.925\n",
            "5 0.931\n",
            "10 0.917\n",
            "20 0.9\n",
            "30 0.89\n"
          ]
        }
      ]
    },
    {
      "cell_type": "markdown",
      "metadata": {
        "_cell_guid": "f4e257f0-1dfd-0774-b346-f2a1b2a068cc",
        "_uuid": "f84e60c8b934615e53af10823558fe42753ac25d",
        "id": "qij-Ez3bUwW_"
      },
      "source": [
        "#### Questions 💡\n",
        "\n"
      ]
    },
    {
      "cell_type": "markdown",
      "metadata": {
        "id": "doLXp1Ot8D2C"
      },
      "source": [
        "# 📠 **Neural Networks**\n",
        "Now, I create some new models using neural networks.\n",
        "\n",
        "It was useful to to have a better understanding on how neural network nodes&nets and other parameters work by playing around with \"TensorFlow Playground\" (https://playground.tensorflow.org/#activation=tanh&batchSize=10&dataset=circle&regDataset=reg-plane&learningRate=0.03&regularizationRate=0&noise=0&networkShape=4,2&seed=0.62283&showTestData=false&discretize=false&percTrainData=50&x=true&y=true&xTimesY=false&xSquared=false&ySquared=false&cosX=false&sinX=false&cosY=false&sinY=false&collectStats=false&problem=classification&initZero=false&hideText=false&regularization_hide=true&regularizationRate_hide=true&learningRate_hide=true&batchSize_hide=true&stepButton_hide=true&activation_hide=true) "
      ]
    },
    {
      "cell_type": "markdown",
      "metadata": {
        "id": "u9iFe-B4zqQA"
      },
      "source": [
        "## 🗒 **MLP**\n",
        "To build a simple neural network, I use `MLPClassifier` from scikit-learn. Like how I did in Tensorflow Playground, I will play with the **number of neurons** and the **number of hidden layers** to adjust the complexity of my model.\n",
        "\n",
        "In my hidden layers, every neuron in one layer is connected to every neuron in the next.\n",
        "\n",
        "**Note 1:**\n",
        "Here's how a neural network with 1 hidden layer of 3 neurons created.\n",
        "\n",
        "`nnet = MLPClassifier(hidden_layer_sizes=(3,)) `\n",
        "\n",
        "**Note 2:**\n",
        "\n",
        "Here's how a neural network with 2 hidden layers: one of 3 neurons and one of 4 neurons created.\n",
        "\n",
        "`nnet = MLPClassifier(hidden_layer_sizes=(3, 4)) `\n",
        "\n",
        "For the below exercise, the one layer with 10 neurons is the most accurate and accuracy is good enough to use this neural network.\n",
        "\n"
      ]
    },
    {
      "cell_type": "code",
      "metadata": {
        "id": "x4XblMWBzm96",
        "colab": {
          "base_uri": "https://localhost:8080/"
        },
        "outputId": "464be88a-ae53-4072-cbdd-557a57daa379"
      },
      "source": [
        "# Create and train our multi layer perceptron model\n",
        "nnet = MLPClassifier(hidden_layer_sizes=(10,), random_state=9, solver=\"sgd\", activation = \"logistic\")  ## 1 hidden layer. 10 neurons \n",
        "nnet.fit(X_train, y_train)\n",
        "\n",
        "# Predict what the classes are based on the testing data\n",
        "predictions = nnet.predict(X_test)\n",
        "\n",
        "# Print the score on the testing data\n",
        "print(\"MLP Testing Set Score:\")\n",
        "print(accuracy_score(y_test, predictions))"
      ],
      "execution_count": null,
      "outputs": [
        {
          "output_type": "stream",
          "name": "stdout",
          "text": [
            "MLP Testing Set Score:\n",
            "0.824\n"
          ]
        },
        {
          "output_type": "stream",
          "name": "stderr",
          "text": [
            "/usr/local/lib/python3.7/dist-packages/sklearn/neural_network/_multilayer_perceptron.py:696: ConvergenceWarning: Stochastic Optimizer: Maximum iterations (200) reached and the optimization hasn't converged yet.\n",
            "  ConvergenceWarning,\n"
          ]
        }
      ]
    },
    {
      "cell_type": "code",
      "metadata": {
        "id": "_nPOrTN-JMYk",
        "colab": {
          "base_uri": "https://localhost:8080/"
        },
        "outputId": "1d177cbc-b651-4059-b588-739012c8e1bd"
      },
      "source": [
        "nnet = MLPClassifier(hidden_layer_sizes=(2,5), random_state=9, solver=\"sgd\", activation = \"logistic\")  ## 2 hidden layers. 2 and 5 neurons in hidden layer 1 and hidden layer 2.\n",
        "nnet.fit(X_train, y_train)\n",
        "\n",
        "# Predict what the classes are based on the testing data\n",
        "predictions = nnet.predict(X_test)\n",
        "\n",
        "# Print the score on the testing data\n",
        "print(\"MLP Testing Set Score:\")\n",
        "print(accuracy_score(y_test, predictions))"
      ],
      "execution_count": null,
      "outputs": [
        {
          "output_type": "stream",
          "name": "stdout",
          "text": [
            "MLP Testing Set Score:\n",
            "0.267\n"
          ]
        },
        {
          "output_type": "stream",
          "name": "stderr",
          "text": [
            "/usr/local/lib/python3.7/dist-packages/sklearn/neural_network/_multilayer_perceptron.py:696: ConvergenceWarning: Stochastic Optimizer: Maximum iterations (200) reached and the optimization hasn't converged yet.\n",
            "  ConvergenceWarning,\n"
          ]
        }
      ]
    },
    {
      "cell_type": "markdown",
      "metadata": {
        "id": "hXud5MuBXqzo"
      },
      "source": [
        "### 🎛 Automating our Experiments\n",
        "\n",
        "Automating your investigation and exploring different numbers of hidden layers, the size of the hidden layers, and the number of iterations."
      ]
    },
    {
      "cell_type": "code",
      "metadata": {
        "id": "owrF6cDvX0HX",
        "colab": {
          "base_uri": "https://localhost:8080/"
        },
        "outputId": "db0fd978-563c-4914-fbc4-640445f46c94"
      },
      "source": [
        "\n",
        "for ilayer in [(784,), (5,5), (8,6), (10,10,10), (10,10,5)]:\n",
        "\n",
        "  print('Layer params are ...')\n",
        "  print(ilayer)\n",
        "  nnet = MLPClassifier(hidden_layer_sizes=ilayer, random_state=9, max_iter=100)  ## How many hidden layers? How many neurons does this have?  \n",
        "  \n",
        "  nnet.fit(X_train, y_train)\n",
        "\n",
        "  # Predict what the classes are based on the testing data\n",
        "  predictions = nnet.predict(X_test)\n",
        "\n",
        "  # Print the score on the testing data\n",
        "  print(\"MLP Testing Set Score:\")\n",
        "  print(accuracy_score(y_test, predictions))  \n"
      ],
      "execution_count": null,
      "outputs": [
        {
          "output_type": "stream",
          "name": "stdout",
          "text": [
            "Layer params are ...\n",
            "(784,)\n",
            "MLP Testing Set Score:\n",
            "0.935\n",
            "Layer params are ...\n",
            "(5, 5)\n",
            "MLP Testing Set Score:\n",
            "0.095\n",
            "Layer params are ...\n",
            "(8, 6)\n"
          ]
        },
        {
          "output_type": "stream",
          "name": "stderr",
          "text": [
            "/usr/local/lib/python3.7/dist-packages/sklearn/neural_network/_multilayer_perceptron.py:696: ConvergenceWarning: Stochastic Optimizer: Maximum iterations (100) reached and the optimization hasn't converged yet.\n",
            "  ConvergenceWarning,\n"
          ]
        },
        {
          "output_type": "stream",
          "name": "stdout",
          "text": [
            "MLP Testing Set Score:\n",
            "0.349\n",
            "Layer params are ...\n",
            "(10, 10, 10)\n"
          ]
        },
        {
          "output_type": "stream",
          "name": "stderr",
          "text": [
            "/usr/local/lib/python3.7/dist-packages/sklearn/neural_network/_multilayer_perceptron.py:696: ConvergenceWarning: Stochastic Optimizer: Maximum iterations (100) reached and the optimization hasn't converged yet.\n",
            "  ConvergenceWarning,\n"
          ]
        },
        {
          "output_type": "stream",
          "name": "stdout",
          "text": [
            "MLP Testing Set Score:\n",
            "0.76\n",
            "Layer params are ...\n",
            "(10, 10, 5)\n",
            "MLP Testing Set Score:\n",
            "0.094\n"
          ]
        }
      ]
    },
    {
      "cell_type": "markdown",
      "metadata": {
        "id": "gKd4j7LHlQ9j"
      },
      "source": [
        "## 🗒 **Keras**\n",
        "Here I use a new library called Keras to create neural networks. To be able to use it, I have to transform our `y` data from the different classes to lists of length 10 where every number in the list is zero, except for the number of the class, which is a 1. "
      ]
    },
    {
      "cell_type": "code",
      "metadata": {
        "id": "Qv5JtcDHjwlf",
        "colab": {
          "base_uri": "https://localhost:8080/"
        },
        "outputId": "95d91380-1b8d-4439-fda4-fc57a073978b"
      },
      "source": [
        "mapping = {'0': 0, '1':1, '2':2, '3':3, '4':4, '5':5, '6':6, '7':7, '8':8, '9':9}\n",
        "new_y_train = []\n",
        "for num in y_train:\n",
        "  new_class = [0]*10\n",
        "  new_class[mapping[num]]=1\n",
        "  new_y_train.append(new_class)\n",
        "\n",
        "new_y_train = np.array(new_y_train)\n",
        "\n",
        "print(y_train)\n",
        "print(new_y_train)"
      ],
      "execution_count": null,
      "outputs": [
        {
          "output_type": "stream",
          "name": "stdout",
          "text": [
            "4066    1\n",
            "486     3\n",
            "1589    7\n",
            "903     0\n",
            "1494    6\n",
            "       ..\n",
            "1149    4\n",
            "1787    1\n",
            "501     9\n",
            "4444    0\n",
            "382     1\n",
            "Name: class, Length: 4000, dtype: category\n",
            "Categories (10, object): ['0', '1', '2', '3', ..., '6', '7', '8', '9']\n",
            "[[0 1 0 ... 0 0 0]\n",
            " [0 0 0 ... 0 0 0]\n",
            " [0 0 0 ... 1 0 0]\n",
            " ...\n",
            " [0 0 0 ... 0 0 1]\n",
            " [1 0 0 ... 0 0 0]\n",
            " [0 1 0 ... 0 0 0]]\n"
          ]
        }
      ]
    },
    {
      "cell_type": "code",
      "metadata": {
        "id": "XUHZ-7efp2x0"
      },
      "source": [
        "new_y_test = []\n",
        "for num in y_test:\n",
        "  new_class = [0]*10\n",
        "  new_class[mapping[num]]=1\n",
        "  new_y_test.append(new_class)\n",
        "\n",
        "new_y_test = np.array(new_y_test)"
      ],
      "execution_count": null,
      "outputs": []
    },
    {
      "cell_type": "markdown",
      "metadata": {
        "id": "uJL_gMmYnd27"
      },
      "source": [
        "I create a neural network that:\n",
        "- takes in an input of size 784 \n",
        "- has 1 hidden layer with 20 neurons that uses a relu activation\n",
        "- has an output layer with 10 neurons that uses a softmax activation\n",
        "\n",
        "A `Dense` layer means that every neuron in one layer is connected to every neuron in the next.\n",
        "\n",
        "Below the layers, I define my optimizer, which determines how I am  updating our weights. I am using stochastic **gradient descent** here. This is also where I am chossing the **learning rate**. \n",
        "\n",
        "In the next line, I am choosing our loss function `categorical_crossentropy`. "
      ]
    },
    {
      "cell_type": "code",
      "metadata": {
        "id": "lzB5q0y8i1di"
      },
      "source": [
        "model = Sequential()\n",
        "\n",
        "# Dense(5) is a fully-connected layer with 5 hidden units.\n",
        "# in the first layer, I specify the expected input data shape:\n",
        "# here, 784-dimensional vectors.\n",
        "\n",
        "model.add(Dense(20, activation='tanh', input_dim=784))\n",
        "model.add(Dense(10, activation='softmax')) # the last layer is the output layer \n",
        "sgd = keras.optimizers.SGD(learning_rate=0.01) # gradient descent!\n",
        "\n",
        "model.compile(loss='categorical_crossentropy',\n",
        "              optimizer=sgd,\n",
        "              metrics=['accuracy'])"
      ],
      "execution_count": null,
      "outputs": []
    },
    {
      "cell_type": "markdown",
      "metadata": {
        "id": "T-17wGeWsfkD"
      },
      "source": [
        "### ✅ **Fitting and Accuracy**\n"
      ]
    },
    {
      "cell_type": "code",
      "metadata": {
        "id": "kB30NdrvmxBk",
        "colab": {
          "base_uri": "https://localhost:8080/"
        },
        "outputId": "a5b59ae1-7f45-4ac6-bf08-169e975f5a30"
      },
      "source": [
        "history = model.fit(X_train, new_y_train, validation_data=(X_test, new_y_test),\n",
        "          epochs=100,\n",
        "          batch_size=128)\n",
        "score = model.evaluate(X_test, new_y_test, batch_size=128)\n",
        "print('Test accuracy:', score[1])"
      ],
      "execution_count": null,
      "outputs": [
        {
          "output_type": "stream",
          "name": "stdout",
          "text": [
            "Epoch 1/100\n",
            "32/32 [==============================] - 1s 11ms/step - loss: 2.3347 - accuracy: 0.2202 - val_loss: 2.0865 - val_accuracy: 0.3070\n",
            "Epoch 2/100\n",
            "32/32 [==============================] - 0s 4ms/step - loss: 1.9314 - accuracy: 0.3370 - val_loss: 2.0112 - val_accuracy: 0.3420\n",
            "Epoch 3/100\n",
            "32/32 [==============================] - 0s 4ms/step - loss: 1.7726 - accuracy: 0.3963 - val_loss: 1.6772 - val_accuracy: 0.4230\n",
            "Epoch 4/100\n",
            "32/32 [==============================] - 0s 4ms/step - loss: 1.5109 - accuracy: 0.4960 - val_loss: 1.6207 - val_accuracy: 0.4390\n",
            "Epoch 5/100\n",
            "32/32 [==============================] - 0s 4ms/step - loss: 1.4128 - accuracy: 0.5410 - val_loss: 1.5288 - val_accuracy: 0.4970\n",
            "Epoch 6/100\n",
            "32/32 [==============================] - 0s 4ms/step - loss: 1.3635 - accuracy: 0.5845 - val_loss: 1.3729 - val_accuracy: 0.5310\n",
            "Epoch 7/100\n",
            "32/32 [==============================] - 0s 4ms/step - loss: 1.1974 - accuracy: 0.6455 - val_loss: 1.2363 - val_accuracy: 0.6350\n",
            "Epoch 8/100\n",
            "32/32 [==============================] - 0s 4ms/step - loss: 1.0971 - accuracy: 0.6900 - val_loss: 1.1483 - val_accuracy: 0.6280\n",
            "Epoch 9/100\n",
            "32/32 [==============================] - 0s 4ms/step - loss: 1.0536 - accuracy: 0.6870 - val_loss: 1.1348 - val_accuracy: 0.6760\n",
            "Epoch 10/100\n",
            "32/32 [==============================] - 0s 4ms/step - loss: 0.9965 - accuracy: 0.7235 - val_loss: 1.0116 - val_accuracy: 0.7190\n",
            "Epoch 11/100\n",
            "32/32 [==============================] - 0s 4ms/step - loss: 0.9321 - accuracy: 0.7555 - val_loss: 1.0055 - val_accuracy: 0.7180\n",
            "Epoch 12/100\n",
            "32/32 [==============================] - 0s 4ms/step - loss: 0.9159 - accuracy: 0.7542 - val_loss: 0.9370 - val_accuracy: 0.7350\n",
            "Epoch 13/100\n",
            "32/32 [==============================] - 0s 5ms/step - loss: 0.8941 - accuracy: 0.7755 - val_loss: 0.9461 - val_accuracy: 0.7510\n",
            "Epoch 14/100\n",
            "32/32 [==============================] - 0s 5ms/step - loss: 0.8628 - accuracy: 0.7807 - val_loss: 0.9073 - val_accuracy: 0.7640\n",
            "Epoch 15/100\n",
            "32/32 [==============================] - 0s 5ms/step - loss: 0.8218 - accuracy: 0.7965 - val_loss: 0.8620 - val_accuracy: 0.7690\n",
            "Epoch 16/100\n",
            "32/32 [==============================] - 0s 5ms/step - loss: 0.7929 - accuracy: 0.8067 - val_loss: 0.8449 - val_accuracy: 0.7640\n",
            "Epoch 17/100\n",
            "32/32 [==============================] - 0s 6ms/step - loss: 0.7624 - accuracy: 0.8065 - val_loss: 0.8755 - val_accuracy: 0.7490\n",
            "Epoch 18/100\n",
            "32/32 [==============================] - 0s 5ms/step - loss: 0.7482 - accuracy: 0.8090 - val_loss: 0.8671 - val_accuracy: 0.7390\n",
            "Epoch 19/100\n",
            "32/32 [==============================] - 0s 4ms/step - loss: 0.7713 - accuracy: 0.7947 - val_loss: 0.8126 - val_accuracy: 0.7940\n",
            "Epoch 20/100\n",
            "32/32 [==============================] - 0s 4ms/step - loss: 0.7305 - accuracy: 0.8100 - val_loss: 0.8367 - val_accuracy: 0.7700\n",
            "Epoch 21/100\n",
            "32/32 [==============================] - 0s 4ms/step - loss: 0.7464 - accuracy: 0.8025 - val_loss: 0.8130 - val_accuracy: 0.7750\n",
            "Epoch 22/100\n",
            "32/32 [==============================] - 0s 4ms/step - loss: 0.6890 - accuracy: 0.8215 - val_loss: 0.8032 - val_accuracy: 0.7720\n",
            "Epoch 23/100\n",
            "32/32 [==============================] - 0s 4ms/step - loss: 0.6805 - accuracy: 0.8227 - val_loss: 0.8408 - val_accuracy: 0.7670\n",
            "Epoch 24/100\n",
            "32/32 [==============================] - 0s 4ms/step - loss: 0.6911 - accuracy: 0.8170 - val_loss: 0.8161 - val_accuracy: 0.7690\n",
            "Epoch 25/100\n",
            "32/32 [==============================] - 0s 4ms/step - loss: 0.6959 - accuracy: 0.8265 - val_loss: 0.8504 - val_accuracy: 0.7300\n",
            "Epoch 26/100\n",
            "32/32 [==============================] - 0s 4ms/step - loss: 0.6477 - accuracy: 0.8303 - val_loss: 0.7266 - val_accuracy: 0.8060\n",
            "Epoch 27/100\n",
            "32/32 [==============================] - 0s 4ms/step - loss: 0.6305 - accuracy: 0.8375 - val_loss: 0.7315 - val_accuracy: 0.8050\n",
            "Epoch 28/100\n",
            "32/32 [==============================] - 0s 4ms/step - loss: 0.6142 - accuracy: 0.8490 - val_loss: 0.6792 - val_accuracy: 0.8070\n",
            "Epoch 29/100\n",
            "32/32 [==============================] - 0s 4ms/step - loss: 0.5843 - accuracy: 0.8493 - val_loss: 0.6988 - val_accuracy: 0.8130\n",
            "Epoch 30/100\n",
            "32/32 [==============================] - 0s 4ms/step - loss: 0.6032 - accuracy: 0.8440 - val_loss: 0.6849 - val_accuracy: 0.8200\n",
            "Epoch 31/100\n",
            "32/32 [==============================] - 0s 4ms/step - loss: 0.5788 - accuracy: 0.8520 - val_loss: 0.7172 - val_accuracy: 0.8020\n",
            "Epoch 32/100\n",
            "32/32 [==============================] - 0s 4ms/step - loss: 0.6062 - accuracy: 0.8330 - val_loss: 0.7007 - val_accuracy: 0.7910\n",
            "Epoch 33/100\n",
            "32/32 [==============================] - 0s 3ms/step - loss: 0.5900 - accuracy: 0.8403 - val_loss: 0.6945 - val_accuracy: 0.7990\n",
            "Epoch 34/100\n",
            "32/32 [==============================] - 0s 4ms/step - loss: 0.6112 - accuracy: 0.8278 - val_loss: 0.7703 - val_accuracy: 0.7740\n",
            "Epoch 35/100\n",
            "32/32 [==============================] - 0s 5ms/step - loss: 0.6133 - accuracy: 0.8278 - val_loss: 0.8013 - val_accuracy: 0.7590\n",
            "Epoch 36/100\n",
            "32/32 [==============================] - 0s 6ms/step - loss: 0.5892 - accuracy: 0.8365 - val_loss: 0.6836 - val_accuracy: 0.8100\n",
            "Epoch 37/100\n",
            "32/32 [==============================] - 0s 5ms/step - loss: 0.5511 - accuracy: 0.8605 - val_loss: 0.6685 - val_accuracy: 0.8230\n",
            "Epoch 38/100\n",
            "32/32 [==============================] - 0s 5ms/step - loss: 0.5534 - accuracy: 0.8572 - val_loss: 0.6377 - val_accuracy: 0.8280\n",
            "Epoch 39/100\n",
            "32/32 [==============================] - 0s 5ms/step - loss: 0.5335 - accuracy: 0.8595 - val_loss: 0.6276 - val_accuracy: 0.8360\n",
            "Epoch 40/100\n",
            "32/32 [==============================] - 0s 5ms/step - loss: 0.5167 - accuracy: 0.8670 - val_loss: 0.6196 - val_accuracy: 0.8290\n",
            "Epoch 41/100\n",
            "32/32 [==============================] - 0s 5ms/step - loss: 0.5095 - accuracy: 0.8690 - val_loss: 0.6023 - val_accuracy: 0.8350\n",
            "Epoch 42/100\n",
            "32/32 [==============================] - 0s 5ms/step - loss: 0.5104 - accuracy: 0.8715 - val_loss: 0.6324 - val_accuracy: 0.8260\n",
            "Epoch 43/100\n",
            "32/32 [==============================] - 0s 5ms/step - loss: 0.5240 - accuracy: 0.8608 - val_loss: 0.6056 - val_accuracy: 0.8450\n",
            "Epoch 44/100\n",
            "32/32 [==============================] - 0s 5ms/step - loss: 0.5348 - accuracy: 0.8620 - val_loss: 0.6550 - val_accuracy: 0.8250\n",
            "Epoch 45/100\n",
            "32/32 [==============================] - 0s 6ms/step - loss: 0.5358 - accuracy: 0.8595 - val_loss: 0.5801 - val_accuracy: 0.8350\n",
            "Epoch 46/100\n",
            "32/32 [==============================] - 0s 5ms/step - loss: 0.4950 - accuracy: 0.8763 - val_loss: 0.5838 - val_accuracy: 0.8420\n",
            "Epoch 47/100\n",
            "32/32 [==============================] - 0s 5ms/step - loss: 0.4730 - accuracy: 0.8835 - val_loss: 0.5679 - val_accuracy: 0.8340\n",
            "Epoch 48/100\n",
            "32/32 [==============================] - 0s 5ms/step - loss: 0.4915 - accuracy: 0.8702 - val_loss: 0.6190 - val_accuracy: 0.8290\n",
            "Epoch 49/100\n",
            "32/32 [==============================] - 0s 5ms/step - loss: 0.5000 - accuracy: 0.8677 - val_loss: 0.5757 - val_accuracy: 0.8460\n",
            "Epoch 50/100\n",
            "32/32 [==============================] - 0s 5ms/step - loss: 0.5064 - accuracy: 0.8650 - val_loss: 0.6069 - val_accuracy: 0.8310\n",
            "Epoch 51/100\n",
            "32/32 [==============================] - 0s 5ms/step - loss: 0.5001 - accuracy: 0.8650 - val_loss: 0.5779 - val_accuracy: 0.8360\n",
            "Epoch 52/100\n",
            "32/32 [==============================] - 0s 5ms/step - loss: 0.5105 - accuracy: 0.8618 - val_loss: 0.5887 - val_accuracy: 0.8320\n",
            "Epoch 53/100\n",
            "32/32 [==============================] - 0s 4ms/step - loss: 0.5159 - accuracy: 0.8540 - val_loss: 0.5986 - val_accuracy: 0.8290\n",
            "Epoch 54/100\n",
            "32/32 [==============================] - 0s 4ms/step - loss: 0.5018 - accuracy: 0.8640 - val_loss: 0.6011 - val_accuracy: 0.8220\n",
            "Epoch 55/100\n",
            "32/32 [==============================] - 0s 4ms/step - loss: 0.4882 - accuracy: 0.8640 - val_loss: 0.5720 - val_accuracy: 0.8420\n",
            "Epoch 56/100\n",
            "32/32 [==============================] - 0s 4ms/step - loss: 0.4693 - accuracy: 0.8730 - val_loss: 0.5402 - val_accuracy: 0.8480\n",
            "Epoch 57/100\n",
            "32/32 [==============================] - 0s 4ms/step - loss: 0.4682 - accuracy: 0.8735 - val_loss: 0.5847 - val_accuracy: 0.8360\n",
            "Epoch 58/100\n",
            "32/32 [==============================] - 0s 4ms/step - loss: 0.4889 - accuracy: 0.8658 - val_loss: 0.5815 - val_accuracy: 0.8200\n",
            "Epoch 59/100\n",
            "32/32 [==============================] - 0s 4ms/step - loss: 0.4784 - accuracy: 0.8737 - val_loss: 0.5498 - val_accuracy: 0.8440\n",
            "Epoch 60/100\n",
            "32/32 [==============================] - 0s 4ms/step - loss: 0.4762 - accuracy: 0.8662 - val_loss: 0.5493 - val_accuracy: 0.8510\n",
            "Epoch 61/100\n",
            "32/32 [==============================] - 0s 4ms/step - loss: 0.4614 - accuracy: 0.8755 - val_loss: 0.6553 - val_accuracy: 0.7990\n",
            "Epoch 62/100\n",
            "32/32 [==============================] - 0s 4ms/step - loss: 0.4900 - accuracy: 0.8687 - val_loss: 0.5462 - val_accuracy: 0.8490\n",
            "Epoch 63/100\n",
            "32/32 [==============================] - 0s 4ms/step - loss: 0.4692 - accuracy: 0.8710 - val_loss: 0.5747 - val_accuracy: 0.8340\n",
            "Epoch 64/100\n",
            "32/32 [==============================] - 0s 4ms/step - loss: 0.4916 - accuracy: 0.8630 - val_loss: 0.5336 - val_accuracy: 0.8420\n",
            "Epoch 65/100\n",
            "32/32 [==============================] - 0s 4ms/step - loss: 0.4221 - accuracy: 0.8840 - val_loss: 0.5484 - val_accuracy: 0.8350\n",
            "Epoch 66/100\n",
            "32/32 [==============================] - 0s 4ms/step - loss: 0.4384 - accuracy: 0.8775 - val_loss: 0.5710 - val_accuracy: 0.8250\n",
            "Epoch 67/100\n",
            "32/32 [==============================] - 0s 4ms/step - loss: 0.4351 - accuracy: 0.8815 - val_loss: 0.5125 - val_accuracy: 0.8580\n",
            "Epoch 68/100\n",
            "32/32 [==============================] - 0s 4ms/step - loss: 0.4260 - accuracy: 0.8815 - val_loss: 0.5486 - val_accuracy: 0.8310\n",
            "Epoch 69/100\n",
            "32/32 [==============================] - 0s 4ms/step - loss: 0.4336 - accuracy: 0.8790 - val_loss: 0.5210 - val_accuracy: 0.8420\n",
            "Epoch 70/100\n",
            "32/32 [==============================] - 0s 4ms/step - loss: 0.4446 - accuracy: 0.8712 - val_loss: 0.5793 - val_accuracy: 0.8320\n",
            "Epoch 71/100\n",
            "32/32 [==============================] - 0s 4ms/step - loss: 0.4579 - accuracy: 0.8760 - val_loss: 0.5230 - val_accuracy: 0.8490\n",
            "Epoch 72/100\n",
            "32/32 [==============================] - 0s 4ms/step - loss: 0.4233 - accuracy: 0.8808 - val_loss: 0.5496 - val_accuracy: 0.8430\n",
            "Epoch 73/100\n",
            "32/32 [==============================] - 0s 4ms/step - loss: 0.4378 - accuracy: 0.8795 - val_loss: 0.5276 - val_accuracy: 0.8450\n",
            "Epoch 74/100\n",
            "32/32 [==============================] - 0s 4ms/step - loss: 0.4208 - accuracy: 0.8848 - val_loss: 0.4971 - val_accuracy: 0.8540\n",
            "Epoch 75/100\n",
            "32/32 [==============================] - 0s 5ms/step - loss: 0.4136 - accuracy: 0.8860 - val_loss: 0.5477 - val_accuracy: 0.8350\n",
            "Epoch 76/100\n",
            "32/32 [==============================] - 0s 6ms/step - loss: 0.4358 - accuracy: 0.8827 - val_loss: 0.5811 - val_accuracy: 0.8340\n",
            "Epoch 77/100\n",
            "32/32 [==============================] - 0s 5ms/step - loss: 0.4639 - accuracy: 0.8712 - val_loss: 0.5725 - val_accuracy: 0.8260\n",
            "Epoch 78/100\n",
            "32/32 [==============================] - 0s 6ms/step - loss: 0.4528 - accuracy: 0.8733 - val_loss: 0.5511 - val_accuracy: 0.8450\n",
            "Epoch 79/100\n",
            "32/32 [==============================] - 0s 5ms/step - loss: 0.4496 - accuracy: 0.8813 - val_loss: 0.5978 - val_accuracy: 0.8270\n",
            "Epoch 80/100\n",
            "32/32 [==============================] - 0s 5ms/step - loss: 0.4681 - accuracy: 0.8723 - val_loss: 0.5899 - val_accuracy: 0.8230\n",
            "Epoch 81/100\n",
            "32/32 [==============================] - 0s 6ms/step - loss: 0.4670 - accuracy: 0.8698 - val_loss: 0.5716 - val_accuracy: 0.8210\n",
            "Epoch 82/100\n",
            "32/32 [==============================] - 0s 5ms/step - loss: 0.4207 - accuracy: 0.8825 - val_loss: 0.5271 - val_accuracy: 0.8360\n",
            "Epoch 83/100\n",
            "32/32 [==============================] - 0s 4ms/step - loss: 0.4205 - accuracy: 0.8838 - val_loss: 0.5178 - val_accuracy: 0.8440\n",
            "Epoch 84/100\n",
            "32/32 [==============================] - 0s 6ms/step - loss: 0.4167 - accuracy: 0.8845 - val_loss: 0.5273 - val_accuracy: 0.8350\n",
            "Epoch 85/100\n",
            "32/32 [==============================] - 0s 5ms/step - loss: 0.4333 - accuracy: 0.8792 - val_loss: 0.5050 - val_accuracy: 0.8570\n",
            "Epoch 86/100\n",
            "32/32 [==============================] - 0s 5ms/step - loss: 0.3874 - accuracy: 0.8980 - val_loss: 0.5076 - val_accuracy: 0.8400\n",
            "Epoch 87/100\n",
            "32/32 [==============================] - 0s 6ms/step - loss: 0.3986 - accuracy: 0.8920 - val_loss: 0.4907 - val_accuracy: 0.8510\n",
            "Epoch 88/100\n",
            "32/32 [==============================] - 0s 5ms/step - loss: 0.3807 - accuracy: 0.8965 - val_loss: 0.5020 - val_accuracy: 0.8530\n",
            "Epoch 89/100\n",
            "32/32 [==============================] - 0s 5ms/step - loss: 0.4069 - accuracy: 0.8873 - val_loss: 0.4988 - val_accuracy: 0.8530\n",
            "Epoch 90/100\n",
            "32/32 [==============================] - 0s 6ms/step - loss: 0.4153 - accuracy: 0.8842 - val_loss: 0.5415 - val_accuracy: 0.8420\n",
            "Epoch 91/100\n",
            "32/32 [==============================] - 0s 5ms/step - loss: 0.4298 - accuracy: 0.8775 - val_loss: 0.5087 - val_accuracy: 0.8490\n",
            "Epoch 92/100\n",
            "32/32 [==============================] - 0s 5ms/step - loss: 0.3899 - accuracy: 0.8917 - val_loss: 0.4811 - val_accuracy: 0.8630\n",
            "Epoch 93/100\n",
            "32/32 [==============================] - 0s 5ms/step - loss: 0.4003 - accuracy: 0.8860 - val_loss: 0.5175 - val_accuracy: 0.8430\n",
            "Epoch 94/100\n",
            "32/32 [==============================] - 0s 5ms/step - loss: 0.4081 - accuracy: 0.8830 - val_loss: 0.4916 - val_accuracy: 0.8600\n",
            "Epoch 95/100\n",
            "32/32 [==============================] - 0s 4ms/step - loss: 0.3991 - accuracy: 0.8857 - val_loss: 0.5747 - val_accuracy: 0.8140\n",
            "Epoch 96/100\n",
            "32/32 [==============================] - 0s 5ms/step - loss: 0.4324 - accuracy: 0.8838 - val_loss: 0.5493 - val_accuracy: 0.8470\n",
            "Epoch 97/100\n",
            "32/32 [==============================] - 0s 5ms/step - loss: 0.4143 - accuracy: 0.8900 - val_loss: 0.5181 - val_accuracy: 0.8540\n",
            "Epoch 98/100\n",
            "32/32 [==============================] - 0s 5ms/step - loss: 0.3958 - accuracy: 0.8910 - val_loss: 0.4965 - val_accuracy: 0.8570\n",
            "Epoch 99/100\n",
            "32/32 [==============================] - 0s 6ms/step - loss: 0.4008 - accuracy: 0.8882 - val_loss: 0.5482 - val_accuracy: 0.8350\n",
            "Epoch 100/100\n",
            "32/32 [==============================] - 0s 5ms/step - loss: 0.4068 - accuracy: 0.8898 - val_loss: 0.4940 - val_accuracy: 0.8450\n",
            "8/8 [==============================] - 0s 5ms/step - loss: 0.4940 - accuracy: 0.8450\n",
            "Test accuracy: 0.8450000286102295\n"
          ]
        }
      ]
    },
    {
      "cell_type": "markdown",
      "source": [
        "Looking at the accuracy and loss only tells us so much - let's visualize it! "
      ],
      "metadata": {
        "id": "IA71A2MdEgur"
      }
    },
    {
      "cell_type": "code",
      "source": [
        "plot_acc(history)"
      ],
      "metadata": {
        "id": "TvlbnSjTEOwo",
        "colab": {
          "base_uri": "https://localhost:8080/",
          "height": 281
        },
        "outputId": "1087daf4-c990-426c-ca17-68c9f7fcf1d8"
      },
      "execution_count": null,
      "outputs": [
        {
          "output_type": "display_data",
          "data": {
            "text/plain": [
              "<Figure size 432x288 with 1 Axes>"
            ],
            "image/png": "[encoded data removed]"
          },
          "metadata": {
            "needs_background": "light"
          }
        }
      ]
    },
    {
      "cell_type": "markdown",
      "source": [
        "Validation and training are very close that is great for 0.8240 "
      ],
      "metadata": {
        "id": "cVu4Myr_V2cC"
      }
    },
    {
      "cell_type": "markdown",
      "metadata": {
        "id": "Dra5MoFu0kxo"
      },
      "source": [
        "## 🖼 **Trying it on my own inputs**"
      ]
    },
    {
      "cell_type": "code",
      "metadata": {
        "id": "FEqSxUOv1Uak"
      },
      "source": [
        "#@title Run this to download whiteboard things!\n",
        "from IPython.display import HTML, Image\n",
        "from google.colab.output import eval_js\n",
        "from base64 import b64decode\n",
        "import zipfile\n",
        "import os\n",
        "import cv2\n",
        "\n",
        "canvas_html = \"\"\"\n",
        "<canvas width=%d height=%d></canvas>\n",
        "<br>\n",
        "<button>Save Image</button>\n",
        "<script>\n",
        "var canvas = document.querySelector('canvas')\n",
        "var ctx = canvas.getContext('2d')\n",
        "ctx.lineWidth = %d\n",
        "ctx.fillStyle = \"#eeeeee\";\n",
        "ctx.fillRect(0, 0, canvas.width, canvas.height);\n",
        "var button = document.querySelector('button')\n",
        "var mouse = {x: 0, y: 0}\n",
        "canvas.addEventListener('mousemove', function(e) {\n",
        "  mouse.x = e.pageX - this.offsetLeft\n",
        "  mouse.y = e.pageY - this.offsetTop\n",
        "})\n",
        "canvas.onmousedown = ()=>{\n",
        "  ctx.beginPath()\n",
        "  ctx.moveTo(mouse.x, mouse.y)\n",
        "  canvas.addEventListener('mousemove', onPaint)\n",
        "}\n",
        "canvas.onmouseup = ()=>{\n",
        "  canvas.removeEventListener('mousemove', onPaint)\n",
        "}\n",
        "var onPaint = ()=>{\n",
        "  ctx.lineTo(mouse.x, mouse.y)\n",
        "  ctx.stroke()\n",
        "}\n",
        "var data = new Promise(resolve=>{\n",
        "  button.onclick = ()=>{\n",
        "    resolve(canvas.toDataURL('image/png'))\n",
        "  }\n",
        "})\n",
        "</script>\n",
        "\"\"\"\n",
        "\n",
        "if not os.path.isdir(\"image_data\"):\n",
        "  os.mkdir(\"image_data\")\n",
        "\n",
        "def draw(w=28, h=28, line_width=1):\n",
        "  path = os.path.join(\"image_data/\")\n",
        "  if not os.path.isdir(path):\n",
        "    os.mkdir(path)\n",
        "\n",
        "  num_files = len(next(os.walk(path))[2]) #dir is your directory path as string\n",
        "  display(HTML(canvas_html % (w, h, line_width)))\n",
        "  data = eval_js(\"data\")\n",
        "  print(data)\n",
        "  binary = b64decode(data.split(',')[1])\n",
        "  # return binary\n",
        "  filename = 'your_digit' + '.png'\n",
        "  with open(os.path.join(path, filename), 'wb') as f:\n",
        "    f.write(binary)\n",
        "  return filename\n",
        "\n",
        "def convert_img(img):\n",
        "  new_img = np.zeros((28,28))\n",
        "  for x in range(0, new_img.shape[0]*2, 2):\n",
        "    for y in range(0, new_img.shape[1]*2, 2):\n",
        "      new_pix = np.min(img[x:x+2,y:y+2,0])\n",
        "      if new_pix==0:\n",
        "        new_img[x//2][y//2]=255\n",
        "      else:\n",
        "        new_img[x//2][y//2]=0     \n",
        "  return new_img"
      ],
      "execution_count": null,
      "outputs": []
    },
    {
      "cell_type": "markdown",
      "metadata": {
        "id": "NxKVdvcb558p"
      },
      "source": [
        "Frawing to a *tiny* whiteboard generated by running the code to draw a number on ."
      ]
    },
    {
      "cell_type": "code",
      "metadata": {
        "id": "sANdle5y1jmW",
        "colab": {
          "base_uri": "https://localhost:8080/",
          "height": 135
        },
        "outputId": "fe281e55-e8e7-4ffa-87b0-788ad65f6b82"
      },
      "source": [
        "img_path = draw(w=56, h=56)"
      ],
      "execution_count": null,
      "outputs": [
        {
          "output_type": "display_data",
          "data": {
            "text/plain": [
              "<IPython.core.display.HTML object>"
            ],
            "text/html": [
              "\n",
              "<canvas width=56 height=56></canvas>\n",
              "<br>\n",
              "<button>Save Image</button>\n",
              "<script>\n",
              "var canvas = document.querySelector('canvas')\n",
              "var ctx = canvas.getContext('2d')\n",
              "ctx.lineWidth = 1\n",
              "ctx.fillStyle = \"#eeeeee\";\n",
              "ctx.fillRect(0, 0, canvas.width, canvas.height);\n",
              "var button = document.querySelector('button')\n",
              "var mouse = {x: 0, y: 0}\n",
              "canvas.addEventListener('mousemove', function(e) {\n",
              "  mouse.x = e.pageX - this.offsetLeft\n",
              "  mouse.y = e.pageY - this.offsetTop\n",
              "})\n",
              "canvas.onmousedown = ()=>{\n",
              "  ctx.beginPath()\n",
              "  ctx.moveTo(mouse.x, mouse.y)\n",
              "  canvas.addEventListener('mousemove', onPaint)\n",
              "}\n",
              "canvas.onmouseup = ()=>{\n",
              "  canvas.removeEventListener('mousemove', onPaint)\n",
              "}\n",
              "var onPaint = ()=>{\n",
              "  ctx.lineTo(mouse.x, mouse.y)\n",
              "  ctx.stroke()\n",
              "}\n",
              "var data = new Promise(resolve=>{\n",
              "  button.onclick = ()=>{\n",
              "    resolve(canvas.toDataURL('image/png'))\n",
              "  }\n",
              "})\n",
              "</script>\n"
            ]
          },
          "metadata": {}
        },
        {
          "output_type": "stream",
          "name": "stdout",
          "text": [
            "data:image/png;base64,iVBORw0KGgoAAAANSUhEUgAAADgAAAA4CAYAAACohjseAAAByUlEQVRoQ+2YQaqDMBCGo4guBcWFG/EGXsAreB7P4Hk8iTdwpyBm78qSgA9f0SbgTDItEUpbGtRvvt8Zrcc539kPb54D/HK7zuCXC2TOoDNIvAK3EU2SxOipc85RjkcG8EwHCUumyVwlBgKUDODZ4Bn2KSRJQAF7QDpARWtyBlF6t8ZOXUQ1iiSWuIhqFgp8mYuoZkldRDULBboMKp4kmwwkHFnAMAzZPM8gqSB1DULbI2UQA44MYJ7nbNs29vTJ4SrTJCKKZY+MQQGIYY8EIKY9MoBY9qwDYkbzaDjWmgx2NMEBn/5R7HneX5f3ff9fxw+CQH6Poki+x3HMiqKQn+u6Zm3b3t71gBjsuo6J15ONNGDTNJKt73stRlPxBGsyVVVJsGEYlIAm4cAAy7KUYOM4agFijoX3EwC5BsW9pNimafoIaGIsoABmWSb3uyzLLaDpaIKOCRWgLTiwazBNU1mwdV0vDf40oE04MIOfIMRvYojf2VW23YcLQLroHaCI7r7vaM96OuyogLbjiR5RG3MPZQ5emaJgD9UgBXtogFTgUACpRBP0Vu0MRckeuMGjaiYfh1SzEHQOioNRggM3SA0ODFAVE5u/vwDdt51A0m1AUAAAAABJRU5ErkJggg==\n"
          ]
        }
      ]
    },
    {
      "cell_type": "markdown",
      "metadata": {
        "id": "-d-0Xq2D6Oo1"
      },
      "source": [
        " visualizing the image "
      ]
    },
    {
      "cell_type": "code",
      "metadata": {
        "id": "T1tgra-I2Jpw",
        "colab": {
          "base_uri": "https://localhost:8080/",
          "height": 282
        },
        "outputId": "57319713-94eb-40c7-ebd2-5a2c586a0707"
      },
      "source": [
        "import matplotlib\n",
        "img = convert_img(matplotlib.image.imread('image_data/your_digit.png'))\n",
        "plt.imshow(img, cmap='gray')"
      ],
      "execution_count": null,
      "outputs": [
        {
          "output_type": "execute_result",
          "data": {
            "text/plain": [
              "<matplotlib.image.AxesImage at 0x7fc777299a90>"
            ]
          },
          "metadata": {},
          "execution_count": 40
        },
        {
          "output_type": "display_data",
          "data": {
            "text/plain": [
              "<Figure size 432x288 with 1 Axes>"
            ],
            "image/png": "[encoded data removed]"
          },
          "metadata": {
            "needs_background": "light"
          }
        }
      ]
    },
    {
      "cell_type": "markdown",
      "metadata": {
        "id": "kIzMDJtR5s9P"
      },
      "source": [
        "My network predicts what class your image is in."
      ]
    },
    {
      "cell_type": "code",
      "metadata": {
        "id": "U5PYlI5z5zlY",
        "colab": {
          "base_uri": "https://localhost:8080/"
        },
        "outputId": "da9588a8-207a-4c65-adcc-a7547a97fd35"
      },
      "source": [
        "probabilities = model.predict(np.array([img.reshape((784,))]))\n",
        "print(\"Probabilities:\", probabilities)\n",
        "print(\"Prediction:\", np.argmax(probabilities))"
      ],
      "execution_count": null,
      "outputs": [
        {
          "output_type": "stream",
          "name": "stdout",
          "text": [
            "Probabilities: [[2.2498870e-03 4.2387050e-02 6.2923783e-01 3.0898858e-02 1.7624882e-01\n",
            "  6.0906820e-04 1.0029669e-02 3.1373817e-02 2.6056953e-02 5.0908063e-02]]\n",
            "Prediction: 2\n"
          ]
        }
      ]
    },
    {
      "cell_type": "markdown",
      "metadata": {
        "id": "7Y1wGoQPm2Ko"
      },
      "source": [
        "# Explainability through Saliency Maps"
      ]
    },
    {
      "cell_type": "markdown",
      "metadata": {
        "id": "UnGTR2Vdb08i"
      },
      "source": [
        "Neural networks have achieved incredible results in many fields. But they have a big problem: it’s very difficult to explain exactly why a neural network makes the decisions it does. This makes it difficult to trust them in high-stakes applications like medicine, self-driving cars, and criminal justice - would you trust an AI that diagnosed you with a disease, but couldn’t explain why?\n",
        "\n",
        "Other classifiers are much more explainable:\n",
        "\n",
        "*   With logistic regression, we can see the coefficient (importance) attached to each input feature.\n",
        "*   With a decision tree, we can trace a particular decision down the tree.\n",
        "*   With KNN, we can examine the nearby neighbors.\n",
        "\n",
        "The NN, above, works well. For example, let's try choosing an image from our dataset and classifying it."
      ]
    },
    {
      "cell_type": "code",
      "metadata": {
        "id": "HmU6Peb7m67F",
        "colab": {
          "base_uri": "https://localhost:8080/",
          "height": 232
        },
        "outputId": "f4bfbeee-0acc-4661-af2e-cbf78bc7a2ee"
      },
      "source": [
        "image_index = 1000 # pick any image you'd like\n",
        "input_image = X_test[image_index] \n",
        "print (input_image.shape) \n",
        "print (input_image) #How many numbers are there? What does each represent?\n",
        "\n",
        "plt.imshow(input_image.reshape(28,28).astype(int), cmap='gray')\n",
        "plt.show()\n",
        "\n",
        "print('Classification:')\n",
        "print (input_image.shape) \n",
        "print(np.argmax(model.predict(np.array([input_image]))))"
      ],
      "execution_count": null,
      "outputs": [
        {
          "output_type": "error",
          "ename": "IndexError",
          "evalue": "ignored",
          "traceback": [
            "\u001b[0;31m---------------------------------------------------------------------------\u001b[0m",
            "\u001b[0;31mIndexError\u001b[0m                                Traceback (most recent call last)",
            "\u001b[0;32m<ipython-input-57-801af1c2f771>\u001b[0m in \u001b[0;36m<module>\u001b[0;34m()\u001b[0m\n\u001b[1;32m      1\u001b[0m \u001b[0mimage_index\u001b[0m \u001b[0;34m=\u001b[0m \u001b[0;36m1000\u001b[0m \u001b[0;31m# pick any image you'd like\u001b[0m\u001b[0;34m\u001b[0m\u001b[0;34m\u001b[0m\u001b[0m\n\u001b[0;32m----> 2\u001b[0;31m \u001b[0minput_image\u001b[0m \u001b[0;34m=\u001b[0m \u001b[0mX_test\u001b[0m\u001b[0;34m[\u001b[0m\u001b[0mimage_index\u001b[0m\u001b[0;34m]\u001b[0m\u001b[0;34m\u001b[0m\u001b[0;34m\u001b[0m\u001b[0m\n\u001b[0m\u001b[1;32m      3\u001b[0m \u001b[0mprint\u001b[0m \u001b[0;34m(\u001b[0m\u001b[0minput_image\u001b[0m\u001b[0;34m.\u001b[0m\u001b[0mshape\u001b[0m\u001b[0;34m)\u001b[0m\u001b[0;34m\u001b[0m\u001b[0;34m\u001b[0m\u001b[0m\n\u001b[1;32m      4\u001b[0m \u001b[0mprint\u001b[0m \u001b[0;34m(\u001b[0m\u001b[0minput_image\u001b[0m\u001b[0;34m)\u001b[0m \u001b[0;31m#How many numbers are there? What does each represent?\u001b[0m\u001b[0;34m\u001b[0m\u001b[0;34m\u001b[0m\u001b[0m\n\u001b[1;32m      5\u001b[0m \u001b[0;34m\u001b[0m\u001b[0m\n",
            "\u001b[0;31mIndexError\u001b[0m: index 1000 is out of bounds for axis 0 with size 1000"
          ]
        }
      ]
    },
    {
      "cell_type": "markdown",
      "metadata": {
        "id": "c6P7DX_WcfOU"
      },
      "source": [
        "But why did the NN reach that decision? It’s really hard to give a clear answer! The NN relies on multiplying input features by the weights it has set. I can print out and look at the hundreds of weights:\n"
      ]
    },
    {
      "cell_type": "code",
      "metadata": {
        "id": "w8M8UZCgcpqO",
        "colab": {
          "base_uri": "https://localhost:8080/"
        },
        "outputId": "42c313b6-3715-495e-b562-6d9dbe22ddd1"
      },
      "source": [
        "for layer_weights in history.model.weights:\n",
        "  print (layer_weights)"
      ],
      "execution_count": null,
      "outputs": [
        {
          "output_type": "stream",
          "name": "stdout",
          "text": [
            "<tf.Variable 'dense/kernel:0' shape=(784, 20) dtype=float32, numpy=\n",
            "array([[-0.04063214,  0.00666941,  0.07631543, ...,  0.02458574,\n",
            "         0.03585589, -0.00713437],\n",
            "       [-0.0135903 ,  0.04018891, -0.08601846, ...,  0.03059164,\n",
            "         0.02105013,  0.02938177],\n",
            "       [ 0.0842036 , -0.05336151, -0.07812765, ...,  0.07835837,\n",
            "        -0.01117543,  0.03209521],\n",
            "       ...,\n",
            "       [ 0.07135318, -0.05708632,  0.08048932, ..., -0.03693808,\n",
            "         0.0467601 , -0.00832327],\n",
            "       [ 0.02598927,  0.07113719, -0.05119687, ..., -0.00505825,\n",
            "        -0.07873629, -0.05479746],\n",
            "       [ 0.05932313, -0.02357597,  0.02233947, ...,  0.04526892,\n",
            "        -0.01250333,  0.04727402]], dtype=float32)>\n",
            "<tf.Variable 'dense/bias:0' shape=(20,) dtype=float32, numpy=\n",
            "array([-5.41186659e-04,  2.24281648e-05, -3.38401675e-04, -1.01252608e-05,\n",
            "       -1.27401101e-04, -9.84172584e-05,  2.86110473e-04, -4.30388427e-05,\n",
            "       -8.98270227e-05,  2.17459194e-04, -4.12335154e-04,  5.18087880e-04,\n",
            "        5.93772420e-05, -1.63119490e-04, -2.55989173e-04, -1.16643554e-04,\n",
            "        5.02125069e-04, -4.88158053e-04, -3.99557030e-04, -8.50168290e-05],\n",
            "      dtype=float32)>\n",
            "<tf.Variable 'dense_1/kernel:0' shape=(20, 10) dtype=float32, numpy=\n",
            "array([[-0.54410845,  0.17453149,  0.15692121,  0.24003103, -0.6325451 ,\n",
            "        -0.7371919 ,  0.36604542,  0.04455018,  0.1865772 , -0.08973718],\n",
            "       [-0.04566512, -0.14297865,  0.2612673 , -0.4360431 ,  0.6118064 ,\n",
            "        -0.1917659 ,  0.67915255, -0.43901825, -0.46160793,  0.80190605],\n",
            "       [ 0.44961324, -0.5984454 , -0.45574066,  0.43548533,  0.32192183,\n",
            "         0.12423776,  0.4356656 , -0.86251426,  0.38121063,  0.49410063],\n",
            "       [ 0.01666331,  0.01509042, -0.24973358, -0.00087628, -0.31717008,\n",
            "        -0.18085203,  0.31649712,  0.14215139, -0.09766626,  0.31197938],\n",
            "       [ 0.854871  ,  0.4428721 ,  0.53892094,  0.18572667, -0.30673164,\n",
            "        -0.2448358 , -0.39545318, -0.477315  , -0.57668483, -0.6070805 ],\n",
            "       [-0.01782584,  0.77173847, -0.28314292, -0.23919722,  0.86041075,\n",
            "        -0.3844093 ,  0.20560971,  0.11220019,  0.04117449, -0.22208615],\n",
            "       [ 0.48442087, -0.6470493 , -0.52308   , -0.54303616,  0.12114055,\n",
            "         0.2909627 , -0.7598563 ,  0.22250068,  0.13421074,  0.17610998],\n",
            "       [-0.25199774, -0.32465538,  0.5630578 ,  0.411511  ,  0.7305124 ,\n",
            "         0.17000876,  0.5380039 , -0.26116568,  0.02368053, -0.64348966],\n",
            "       [ 0.46883777,  0.34843358, -0.59089357,  0.24094129, -0.29182848,\n",
            "        -0.12669924, -0.60633093,  0.31866035,  0.29196012,  0.46359813],\n",
            "       [-0.45551562, -0.3971258 ,  0.27383804, -0.15753613,  0.43931168,\n",
            "        -0.6959112 , -0.6315823 ,  0.61829394, -0.5571292 ,  0.412225  ],\n",
            "       [-0.26435888,  0.425941  , -0.29323798,  0.57587135, -0.10783725,\n",
            "         0.54065585, -0.49981883, -0.3212562 ,  0.5503358 , -0.11590783],\n",
            "       [-0.07475542,  0.53213745, -0.5261584 , -0.21190496,  0.11227039,\n",
            "         0.6456555 ,  0.7192639 , -0.06640154, -0.19677189, -0.563263  ],\n",
            "       [ 0.8366985 , -0.52240086, -0.36181352,  0.25002402, -0.48549184,\n",
            "        -0.11119374,  0.18677138,  0.36106244, -0.6185739 , -0.07874022],\n",
            "       [ 0.08028281, -0.21511611, -0.3336918 ,  0.40739265, -0.11002445,\n",
            "        -0.38277024, -0.44844925, -0.19445819, -0.32410237,  0.01343815],\n",
            "       [-0.61737615,  0.2235228 ,  0.62293917,  0.20182383, -0.37870628,\n",
            "         0.35440415, -0.6576547 , -0.42861074,  0.24971324, -0.33569178],\n",
            "       [ 0.31779602, -0.06844565,  0.31423086, -0.36820775,  0.3084708 ,\n",
            "        -0.29913196,  0.09946409, -0.40081313,  0.09259915,  0.24972141],\n",
            "       [ 0.11875867, -0.61720777, -0.6400084 ,  0.45853522,  0.33199638,\n",
            "         0.51863396, -0.16792275,  0.09824853, -0.57146996,  0.34894383],\n",
            "       [ 0.08328971, -0.6186878 , -0.00762654, -0.832707  ,  0.33349255,\n",
            "        -0.46882173, -0.02450162, -0.50733095,  0.3774007 ,  0.1788303 ],\n",
            "       [-0.41052714,  0.41682538, -0.02390089,  0.52101225,  0.42446277,\n",
            "        -0.5372526 , -0.26822767,  0.54117566,  0.30106217,  0.64342785],\n",
            "       [-0.30337778,  0.06601951, -0.39817327, -0.35824978,  0.24405369,\n",
            "         0.01669964,  0.10241226, -0.0289262 ,  0.41180274,  0.04583849]],\n",
            "      dtype=float32)>\n",
            "<tf.Variable 'dense_1/bias:0' shape=(10,) dtype=float32, numpy=\n",
            "array([ 0.0165493 , -0.05777546,  0.08432838, -0.02738511, -0.06522173,\n",
            "       -0.00205253,  0.06782918, -0.01503023, -0.08141486,  0.08017333],\n",
            "      dtype=float32)>\n"
          ]
        }
      ]
    },
    {
      "cell_type": "markdown",
      "metadata": {
        "id": "SR42boMgczoF"
      },
      "source": [
        "Unfortunately, that probably didn’t help me make a useful explanation.\n",
        "\n",
        "Researchers are currently studying ways to make neural networks more explainable. One approach is using **saliency maps** to figure out the saliency (importance) of each individual pixel. Check out a demo [here](https://lrpserver.hhi.fraunhofer.de/image-classification). Intuitively, we're trying to understand the neural network by tracking what it \"pays attention\" to, in the same way that psychologists study babies' cognition by [tracking what babies look at](https://www.ncbi.nlm.nih.gov/pmc/articles/PMC3259733/).\n",
        "\n",
        "In this exercise, I will build a simple version of a saliency map for the image you chose above  and see what pixels were most important in helping the network make its classification.\n",
        "\n",
        "To do this, I'll investigate the effects of changing each pixel a little bit. If changing a particular pixel changes the result a lot, concluding that pixel must be important for classifying. If changing that pixel doesn't change the result, concluding that pixel is unimportant.\n"
      ]
    },
    {
      "cell_type": "markdown",
      "metadata": {
        "id": "0RpZL6ChfLZ6"
      },
      "source": [
        "I am going to use the raw predicted probabilities, rather than the final classification."
      ]
    },
    {
      "cell_type": "markdown",
      "metadata": {
        "id": "Xla3j0R1geJY"
      },
      "source": [
        "Now, we need to calculate the saliency for each pixel (really, each R/G/B value). The core idea is that a pixel's saliency is the average value of \n",
        "\n",
        " $D = |\\frac{\\Delta probability}{\\Delta pixel}|$\n",
        " \n",
        " where $\\Delta$ is the amount of change. If a small change in the pixel value results in a large change in the probability (either up or down), this pixel is important. \n",
        "Here's the game plan:\n",
        "\n",
        "*   Consider each pixel value in turn.\n",
        "*   Make a copy of the image array before you change anything!\n",
        "*   Make the pixel value larger or smaller by various amounts. Each time, find the NN's probability for the correct class with the changed pixel value, and calculate the value of D.\n",
        "*   Repeat the previous step a few times, and calculate the pixel's saliency: the average value of D.\n",
        "*   Store the saliency of each pixel in a list, so that we can visualize it later.\n",
        "\n"
      ]
    },
    {
      "cell_type": "code",
      "metadata": {
        "id": "RnABhKUJmNCF",
        "colab": {
          "base_uri": "https://localhost:8080/"
        },
        "outputId": "aedc4e75-1978-491f-c5ef-34f3b1e6e035"
      },
      "source": [
        "saliencies = [] #eventually, will be the same size as input_image\n",
        "\n",
        "input_probs = model.predict(np.array([input_image]))\n",
        "input_class = np.argmax(new_y_test[image_index])\n",
        "\n",
        "for index, pixel in enumerate(input_image):\n",
        "  if index%100 == 0: #will track progress - this might take a while\n",
        "    print (index)\n",
        "  \n",
        "  changed_input = input_image.copy() #make sure not to change the original input_image!\n",
        "  \n",
        "  D_list = []\n",
        "  for pixel_change in [-100, -50, -30, 30, 50, 100]:\n",
        "    changed_pixel = pixel + pixel_change   #In changed_input, change the value of this pixel by some amount.\n",
        "    if 0 <= changed_pixel <= 255:   #Use the NN to classify changed_input.\n",
        "      changed_input[index] = changed_pixel \n",
        "      changed_pred = model.predict(np.array([changed_input]))\n",
        "      D = (changed_pred[0,input_class] - input_probs[0,input_class])/pixel_change\n",
        "      D_list.append(np.abs(D))    #Calculate the value of D.\n",
        "  saliency = np.mean(D_list)\n",
        "  saliencies.append(saliency)\n",
        "print (saliencies)"
      ],
      "execution_count": null,
      "outputs": [
        {
          "output_type": "stream",
          "name": "stdout",
          "text": [
            "0\n",
            "100\n",
            "200\n",
            "300\n",
            "400\n",
            "500\n",
            "600\n",
            "700\n",
            "[0.0, 0.0, 0.0, 0.0, 0.0, 0.0, 0.0, 0.0, 0.0, 0.0, 0.0, 0.0, 0.0, 0.0, 0.0, 0.0, 0.0, 0.0, 0.0, 0.0, 0.0, 0.0, 0.0, 0.0, 0.0, 0.0, 0.0, 0.0, 0.0, 0.0, 0.0, 0.0, 0.0, 0.0, 0.0, 0.0, 0.0, 0.0, 0.0, 0.0, 0.0, 0.0, 0.0, 0.0, 0.0, 0.0, 0.0, 0.0, 0.0, 0.0, 0.0, 0.0, 0.0, 0.0, 0.0, 0.0, 0.0, 0.0, 0.0, 0.0, 0.0, 0.0, 0.0, 0.0, 0.0, 0.0, 0.0, 0.0, 0.0, 0.0, 0.0, 0.0, 0.0, 0.0, 0.0, 0.0, 0.0, 0.0, 0.0, 0.0, 0.0, 0.0, 0.0, 0.0, 0.0, 0.0, 0.0, 0.0, 0.0, 0.0, 0.0, 0.0, 0.0, 0.0, 0.0, 0.0, 0.0, 0.0, 0.0, 0.0, 0.0, 0.0, 0.0, 0.0, 0.0, 0.0, 0.0, 0.0, 0.0, 0.0, 0.0, 0.0, 0.0, 0.0, 0.0, 0.0, 0.0, 0.0, 0.0, 0.0, 0.0, 0.0, 0.0, 0.0, 0.0, 0.0, 0.0, 0.0, 0.0, 0.0, 0.0, 0.0, 0.0, 0.0, 0.0, 0.0, 0.0, 0.0, 0.0, 0.0, 0.0, 0.0, 0.0, 0.0, 0.0, 0.0, 0.0, 0.0, 0.0, 0.0, 0.0, 0.0, 0.0, 0.0, 0.0, 0.0, 0.0, 0.0, 0.0, 0.0, 0.0, 0.0, 0.0, 0.0, 0.0, 0.0, 0.0, 0.0, 0.0, 0.0, 0.0, 0.0, 0.0, 0.0, 0.0, 0.0, 0.0, 0.0, 0.0, 0.0, 0.0, 0.0, 0.0, 0.0, 0.0, 0.0, 0.0, 0.0, 0.0, 0.0, 0.0, 0.0, 0.0, 0.0, 0.0, 0.0, 0.0, 0.0, 0.0, 0.0, 0.0, 0.0, 0.0, 0.0, 0.0, 0.0, 0.0, 0.0, 0.0, 0.0, 0.0, 0.0, 0.0, 0.0, 0.0, 0.0, 0.0, 0.0, 0.0, 0.0, 0.0, 0.0, 0.0, 0.0, 0.0, 0.0, 0.0, 0.0, 0.0, 0.0, 0.0, 0.0, 0.0, 0.0, 0.0, 0.0, 0.0, 0.0, 0.0, 0.0, 0.0, 0.0, 0.0, 0.0, 0.0, 0.0, 0.0, 0.0, 0.0, 0.0, 0.0, 0.0, 0.0, 0.0, 0.0, 0.0, 0.0, 0.0, 0.0, 0.0, 0.0, 0.0, 0.0, 0.0, 0.0, 0.0, 0.0, 0.0, 0.0, 0.0, 0.0, 0.0, 0.0, 0.0, 0.0, 0.0, 0.0, 0.0, 0.0, 0.0, 0.0, 0.0, 0.0, 0.0, 0.0, 0.0, 0.0, 0.0, 0.0, 0.0, 0.0, 0.0, 0.0, 0.0, 0.0, 0.0, 0.0, 0.0, 0.0, 0.0, 0.0, 0.0, 0.0, 0.0, 0.0, 0.0, 0.0, 0.0, 0.0, 0.0, 0.0, 0.0, 0.0, 0.0, 0.0, 0.0, 0.0, 0.0, 0.0, 0.0, 0.0, 0.0, 0.0, 0.0, 0.0, 0.0, 0.0, 0.0, 0.0, 0.0, 0.0, 0.0, 0.0, 0.0, 0.0, 0.0, 0.0, 0.0, 0.0, 0.0, 0.0, 0.0, 0.0, 0.0, 0.0, 0.0, 0.0, 0.0, 0.0, 0.0, 0.0, 0.0, 0.0, 0.0, 0.0, 0.0, 0.0, 0.0, 0.0, 0.0, 0.0, 0.0, 0.0, 0.0, 0.0, 0.0, 0.0, 0.0, 0.0, 0.0, 0.0, 0.0, 0.0, 0.0, 0.0, 0.0, 0.0, 0.0, 0.0, 0.0, 0.0, 0.0, 0.0, 0.0, 0.0, 0.0, 0.0, 0.0, 0.0, 0.0, 0.0, 0.0, 0.0, 0.0, 0.0, 0.0, 0.0, 0.0, 0.0, 0.0, 0.0, 0.0, 0.0, 0.0, 0.0, 0.0, 0.0, 0.0, 0.0, 0.0, 0.0, 0.0, 0.0, 0.0, 0.0, 0.0, 0.0, 0.0, 0.0, 0.0, 0.0, 0.0, 0.0, 0.0, 0.0, 0.0, 0.0, 0.0, 0.0, 0.0, 0.0, 0.0, 0.0, 0.0, 0.0, 0.0, 0.0, 0.0, 0.0, 0.0, 0.0, 0.0, 0.0, 0.0, 0.0, 0.0, 0.0, 0.0, 0.0, 0.0, 0.0, 0.0, 0.0, 0.0, 0.0, 0.0, 0.0, 0.0, 0.0, 0.0, 0.0, 0.0, 0.0, 0.0, 0.0, 0.0, 0.0, 0.0, 0.0, 0.0, 0.0, 0.0, 0.0, 0.0, 0.0, 0.0, 0.0, 0.0, 0.0, 0.0, 0.0, 0.0, 0.0, 0.0, 0.0, 0.0, 0.0, 0.0, 0.0, 0.0, 0.0, 0.0, 0.0, 0.0, 0.0, 0.0, 0.0, 0.0, 0.0, 0.0, 0.0, 0.0, 0.0, 0.0, 0.0, 0.0, 0.0, 0.0, 0.0, 0.0, 0.0, 0.0, 0.0, 0.0, 0.0, 0.0, 0.0, 0.0, 0.0, 0.0, 0.0, 0.0, 0.0, 0.0, 0.0, 0.0, 0.0, 0.0, 0.0, 0.0, 0.0, 0.0, 0.0, 0.0, 0.0, 0.0, 0.0, 0.0, 0.0, 0.0, 0.0, 0.0, 0.0, 0.0, 0.0, 0.0, 0.0, 0.0, 0.0, 0.0, 0.0, 0.0, 0.0, 0.0, 0.0, 0.0, 0.0, 0.0, 0.0, 0.0, 0.0, 0.0, 0.0, 0.0, 0.0, 0.0, 0.0, 0.0, 0.0, 0.0, 0.0, 0.0, 0.0, 0.0, 0.0, 0.0, 0.0, 0.0, 0.0, 0.0, 0.0, 0.0, 0.0, 0.0, 0.0, 0.0, 0.0, 0.0, 0.0, 0.0, 0.0, 0.0, 0.0, 0.0, 0.0, 0.0, 0.0, 0.0, 0.0, 0.0, 0.0, 0.0, 0.0, 0.0, 0.0, 0.0, 0.0, 0.0, 0.0, 0.0, 0.0, 0.0, 0.0, 0.0, 0.0, 0.0, 0.0, 0.0, 0.0, 0.0, 0.0, 0.0, 0.0, 0.0, 0.0, 0.0, 0.0, 0.0, 0.0, 0.0, 0.0, 0.0, 0.0, 0.0, 0.0, 0.0, 0.0, 0.0, 0.0, 0.0, 0.0, 0.0, 0.0, 0.0, 0.0, 0.0, 0.0, 0.0, 0.0, 0.0, 0.0, 0.0, 0.0, 0.0, 0.0, 0.0, 0.0, 0.0, 0.0, 0.0, 0.0, 0.0, 0.0, 0.0, 0.0, 0.0, 0.0, 0.0, 0.0, 0.0, 0.0, 0.0, 0.0, 0.0, 0.0, 0.0, 0.0, 0.0, 0.0, 0.0, 0.0, 0.0, 0.0, 0.0, 0.0, 0.0, 0.0, 0.0, 0.0, 0.0, 0.0, 0.0, 0.0, 0.0, 0.0, 0.0, 0.0, 0.0, 0.0, 0.0, 0.0, 0.0, 0.0, 0.0, 0.0, 0.0, 0.0, 0.0, 0.0, 0.0, 0.0, 0.0, 0.0, 0.0, 0.0, 0.0, 0.0, 0.0, 0.0, 0.0, 0.0, 0.0, 0.0, 0.0, 0.0, 0.0, 0.0, 0.0, 0.0, 0.0, 0.0, 0.0, 0.0, 0.0, 0.0, 0.0, 0.0, 0.0, 0.0, 0.0, 0.0, 0.0, 0.0, 0.0, 0.0, 0.0, 0.0, 0.0, 0.0, 0.0, 0.0, 0.0, 0.0, 0.0, 0.0, 0.0, 0.0, 0.0, 0.0, 0.0, 0.0, 0.0, 0.0, 0.0, 0.0, 0.0, 0.0, 0.0, 0.0, 0.0, 0.0, 0.0, 0.0, 0.0, 0.0, 0.0, 0.0, 0.0, 0.0, 0.0, 0.0, 0.0, 0.0, 0.0]\n"
          ]
        }
      ]
    },
    {
      "cell_type": "markdown",
      "metadata": {
        "id": "SJEAJ5VinTIZ"
      },
      "source": [
        "My saliencies are probably very small values, since each individual pixel has a small effect on the output. \n",
        "Here are the current min and max:"
      ]
    },
    {
      "cell_type": "code",
      "metadata": {
        "id": "S5vRrciYnZgk",
        "colab": {
          "base_uri": "https://localhost:8080/"
        },
        "outputId": "ab26bc1c-8ddd-4010-ea97-60734b130a27"
      },
      "source": [
        "sal_array = np.array(saliencies)\n",
        "print (sal_array.min(), sal_array.max())\n",
        "print (sal_array.shape)"
      ],
      "execution_count": null,
      "outputs": [
        {
          "output_type": "stream",
          "name": "stdout",
          "text": [
            "0.0 0.0\n",
            "(784,)\n"
          ]
        }
      ]
    },
    {
      "cell_type": "markdown",
      "metadata": {
        "id": "UwQfwv6rnl--"
      },
      "source": [
        "To plot the saliencies, I need to do some arithmetic to transform them to a range of 0 to 1. "
      ]
    },
    {
      "cell_type": "code",
      "metadata": {
        "id": "XL_W9k0W0Sai",
        "colab": {
          "base_uri": "https://localhost:8080/"
        },
        "outputId": "0c3c3182-805b-4365-d315-1a35fe0de996"
      },
      "source": [
        "print (sal_array.min(), sal_array.max())\n",
        "\n",
        "sal_array = (sal_array - sal_array.min())/(sal_array.max()-sal_array.min())\n",
        "print (sal_array.min(), sal_array.max())\n",
        "\n",
        "sal_array.shape"
      ],
      "execution_count": null,
      "outputs": [
        {
          "output_type": "stream",
          "name": "stdout",
          "text": [
            "0.0 0.0\n",
            "nan nan\n"
          ]
        },
        {
          "output_type": "stream",
          "name": "stderr",
          "text": [
            "/usr/local/lib/python3.7/dist-packages/ipykernel_launcher.py:3: RuntimeWarning: invalid value encountered in true_divide\n",
            "  This is separate from the ipykernel package so we can avoid doing imports until\n"
          ]
        },
        {
          "output_type": "execute_result",
          "data": {
            "text/plain": [
              "(784,)"
            ]
          },
          "metadata": {},
          "execution_count": 53
        }
      ]
    },
    {
      "cell_type": "markdown",
      "metadata": {
        "id": "OvFKoff4n_gf"
      },
      "source": [
        "\n",
        "\n",
        "As I am not getting great results, I try experimenting with how much I am  changing the pixel values."
      ]
    },
    {
      "cell_type": "code",
      "metadata": {
        "id": "2vANcgvj1Pvc",
        "colab": {
          "base_uri": "https://localhost:8080/",
          "height": 914
        },
        "outputId": "68b35015-0963-40a9-819a-225609821883"
      },
      "source": [
        "#Plot our original image\n",
        "plt.imshow(input_image.reshape(28,28).astype(int), cmap=\"gray\")\n",
        "plt.show()\n",
        "\n",
        "#Plot our saliency map: the brighter, the higher the saliency\n",
        "plt.imshow(sal_array.reshape(28,28))\n",
        "plt.show()\n",
        "\n",
        "#Plot our saliency map superimposed on the image\n",
        "plt.imshow(input_image.reshape(28,28).astype(int))\n",
        "plt.imshow(sal_array.reshape(28,28),alpha=0.6)\n",
        "plt.show()"
      ],
      "execution_count": null,
      "outputs": [
        {
          "output_type": "display_data",
          "data": {
            "text/plain": [
              "<Figure size 432x288 with 1 Axes>"
            ],
            "image/png": "[encoded data removed]"
          },
          "metadata": {
            "needs_background": "light"
          }
        },
        {
          "output_type": "stream",
          "name": "stderr",
          "text": [
            "/usr/local/lib/python3.7/dist-packages/matplotlib/image.py:452: UserWarning: Warning: converting a masked element to nan.\n",
            "  dv = np.float64(self.norm.vmax) - np.float64(self.norm.vmin)\n",
            "/usr/local/lib/python3.7/dist-packages/matplotlib/image.py:459: UserWarning: Warning: converting a masked element to nan.\n",
            "  a_min = np.float64(newmin)\n",
            "/usr/local/lib/python3.7/dist-packages/matplotlib/image.py:464: UserWarning: Warning: converting a masked element to nan.\n",
            "  a_max = np.float64(newmax)\n",
            "<string>:6: UserWarning: Warning: converting a masked element to nan.\n",
            "/usr/local/lib/python3.7/dist-packages/matplotlib/colors.py:993: UserWarning: Warning: converting a masked element to nan.\n",
            "  data = np.asarray(value)\n"
          ]
        },
        {
          "output_type": "display_data",
          "data": {
            "text/plain": [
              "<Figure size 432x288 with 1 Axes>"
            ],
            "image/png": "[encoded data removed]"
          },
          "metadata": {
            "needs_background": "light"
          }
        },
        {
          "output_type": "display_data",
          "data": {
            "text/plain": [
              "<Figure size 432x288 with 1 Axes>"
            ],
            "image/png": "[encoded data removed]"
          },
          "metadata": {
            "needs_background": "light"
          }
        }
      ]
    },
    {
      "cell_type": "markdown",
      "metadata": {
        "id": "fistwbaDp56y"
      },
      "source": [
        "This gives more insight into the neural network. We can tell which pixels matter in its decisions. It makes it brighter for the number three and matte color purple for the background even though it is not visible when plotted alone. \n"
      ]
    },
    {
      "cell_type": "code",
      "source": [
        ""
      ],
      "metadata": {
        "id": "m2AUgKFW5nPg"
      },
      "execution_count": null,
      "outputs": []
    }
  ]
}